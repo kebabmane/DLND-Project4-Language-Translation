{
 "cells": [
  {
   "cell_type": "markdown",
   "metadata": {
    "collapsed": true,
    "deletable": true,
    "editable": true
   },
   "source": [
    "# Language Translation\n",
    "In this project, you’re going to take a peek into the realm of neural network machine translation.  You’ll be training a sequence to sequence model on a dataset of English and French sentences that can translate new sentences from English to French.\n",
    "## Get the Data\n",
    "Since translating the whole language of English to French will take lots of time to train, we have provided you with a small portion of the English corpus."
   ]
  },
  {
   "cell_type": "code",
   "execution_count": 1,
   "metadata": {
    "collapsed": false,
    "deletable": true,
    "editable": true
   },
   "outputs": [],
   "source": [
    "\"\"\"\n",
    "DON'T MODIFY ANYTHING IN THIS CELL\n",
    "\"\"\"\n",
    "import helper\n",
    "import problem_unittests as tests\n",
    "\n",
    "source_path = 'data/small_vocab_en'\n",
    "target_path = 'data/small_vocab_fr'\n",
    "source_text = helper.load_data(source_path)\n",
    "target_text = helper.load_data(target_path)"
   ]
  },
  {
   "cell_type": "markdown",
   "metadata": {
    "deletable": true,
    "editable": true
   },
   "source": [
    "## Explore the Data\n",
    "Play around with view_sentence_range to view different parts of the data."
   ]
  },
  {
   "cell_type": "code",
   "execution_count": 2,
   "metadata": {
    "collapsed": false,
    "deletable": true,
    "editable": true
   },
   "outputs": [
    {
     "name": "stdout",
     "output_type": "stream",
     "text": [
      "Dataset Stats\n",
      "Roughly the number of unique words: 227\n",
      "Number of sentences: 137861\n",
      "Average number of words in a sentence: 13.225277634719028\n",
      "\n",
      "English sentences 0 to 10:\n",
      "new jersey is sometimes quiet during autumn , and it is snowy in april .\n",
      "the united states is usually chilly during july , and it is usually freezing in november .\n",
      "california is usually quiet during march , and it is usually hot in june .\n",
      "the united states is sometimes mild during june , and it is cold in september .\n",
      "your least liked fruit is the grape , but my least liked is the apple .\n",
      "his favorite fruit is the orange , but my favorite is the grape .\n",
      "paris is relaxing during december , but it is usually chilly in july .\n",
      "new jersey is busy during spring , and it is never hot in march .\n",
      "our least liked fruit is the lemon , but my least liked is the grape .\n",
      "the united states is sometimes busy during january , and it is sometimes warm in november .\n",
      "\n",
      "French sentences 0 to 10:\n",
      "new jersey est parfois calme pendant l' automne , et il est neigeux en avril .\n",
      "les états-unis est généralement froid en juillet , et il gèle habituellement en novembre .\n",
      "california est généralement calme en mars , et il est généralement chaud en juin .\n",
      "les états-unis est parfois légère en juin , et il fait froid en septembre .\n",
      "votre moins aimé fruit est le raisin , mais mon moins aimé est la pomme .\n",
      "son fruit préféré est l'orange , mais mon préféré est le raisin .\n",
      "paris est relaxant en décembre , mais il est généralement froid en juillet .\n",
      "new jersey est occupé au printemps , et il est jamais chaude en mars .\n",
      "notre fruit est moins aimé le citron , mais mon moins aimé est le raisin .\n",
      "les états-unis est parfois occupé en janvier , et il est parfois chaud en novembre .\n"
     ]
    }
   ],
   "source": [
    "view_sentence_range = (0, 10)\n",
    "\n",
    "\"\"\"\n",
    "DON'T MODIFY ANYTHING IN THIS CELL\n",
    "\"\"\"\n",
    "import numpy as np\n",
    "\n",
    "print('Dataset Stats')\n",
    "print('Roughly the number of unique words: {}'.format(len({word: None for word in source_text.split()})))\n",
    "\n",
    "sentences = source_text.split('\\n')\n",
    "word_counts = [len(sentence.split()) for sentence in sentences]\n",
    "print('Number of sentences: {}'.format(len(sentences)))\n",
    "print('Average number of words in a sentence: {}'.format(np.average(word_counts)))\n",
    "\n",
    "print()\n",
    "print('English sentences {} to {}:'.format(*view_sentence_range))\n",
    "print('\\n'.join(source_text.split('\\n')[view_sentence_range[0]:view_sentence_range[1]]))\n",
    "print()\n",
    "print('French sentences {} to {}:'.format(*view_sentence_range))\n",
    "print('\\n'.join(target_text.split('\\n')[view_sentence_range[0]:view_sentence_range[1]]))"
   ]
  },
  {
   "cell_type": "markdown",
   "metadata": {
    "deletable": true,
    "editable": true
   },
   "source": [
    "## Implement Preprocessing Function\n",
    "### Text to Word Ids\n",
    "As you did with other RNNs, you must turn the text into a number so the computer can understand it. In the function `text_to_ids()`, you'll turn `source_text` and `target_text` from words to ids.  However, you need to add the `<EOS>` word id at the end of each sentence from `target_text`.  This will help the neural network predict when the sentence should end.\n",
    "\n",
    "You can get the `<EOS>` word id by doing:\n",
    "```python\n",
    "target_vocab_to_int['<EOS>']\n",
    "```\n",
    "You can get other word ids using `source_vocab_to_int` and `target_vocab_to_int`."
   ]
  },
  {
   "cell_type": "code",
   "execution_count": 98,
   "metadata": {
    "collapsed": false,
    "deletable": true,
    "editable": true
   },
   "outputs": [
    {
     "name": "stdout",
     "output_type": "stream",
     "text": [
      "source_vocab_to_int: {'quiet': 17, 'april': 18, 'june': 19, 'the': 20, 'cold': 26, 'states': 21, 'mild': 4, ',': 5, 'usually': 6, 'jersey': 30, 'snowy': 23, 'and': 24, 'march': 7, 'chilly': 31, 'in': 8, 'july': 22, 'during': 25, '<GO>': 3, '<UNK>': 2, '<PAD>': 0, 'united': 10, 'freezing': 27, '<EOS>': 1, 'september': 11, 'hot': 28, 'sometimes': 12, 'new': 13, 'is': 14, 'november': 15, 'it': 16, 'autumn': 32, '.': 9, 'california': 29}\n",
      "target_vocab_to_int: {'calme': 4, 'california': 32, 'avril': 5, 'jersey': 31, 'juin': 21, 'chaud': 29, 'septembre': 14, 'est': 20, 'novembre': 22, 'automne': 7, 'légère': 23, 'gèle': 11, 'et': 9, 'parfois': 10, 'états-unis': 25, 'généralement': 6, 'neigeux': 30, '<GO>': 3, '<UNK>': 2, '<PAD>': 0, 'mars': 24, '.': 12, 'en': 13, '<EOS>': 1, 'froid': 26, 'pendant': 27, \"l'\": 28, 'new': 15, 'habituellement': 16, 'les': 17, ',': 8, 'il': 33, 'juillet': 18, 'fait': 19}\n",
      "source_id_text: [[13, 30, 14, 12, 17, 25, 32, 5, 24, 16, 14, 23, 8, 18, 9], [20, 10, 21, 14, 6, 31, 25, 22, 5, 24, 16, 14, 6, 27, 8, 15, 9], [29, 14, 6, 17, 25, 7, 5, 24, 16, 14, 6, 28, 8, 19, 9], [20, 10, 21, 14, 12, 4, 25, 19, 5, 24, 16, 14, 26, 8, 11, 9]]\n",
      "target_id_text: [[15, 31, 20, 10, 4, 27, 28, 7, 8, 9, 33, 20, 30, 13, 5, 12], [17, 25, 20, 6, 26, 13, 18, 8, 9, 33, 11, 16, 13, 22, 12], [32, 20, 6, 4, 13, 24, 8, 9, 33, 20, 6, 29, 13, 21, 12], [17, 25, 20, 10, 23, 13, 21, 8, 9, 33, 19, 26, 13, 14, 12]]\n",
      "Tests Passed\n"
     ]
    }
   ],
   "source": [
    "def text_to_ids(source_text, target_text, source_vocab_to_int, target_vocab_to_int):\n",
    "    \"\"\"\n",
    "    Convert source and target text to proper word ids\n",
    "    :param source_text: String that contains all the source text.\n",
    "    :param target_text: String that contains all the target text.\n",
    "    :param source_vocab_to_int: Dictionary to go from the source words to an id\n",
    "    :param target_vocab_to_int: Dictionary to go from the target words to an id\n",
    "    :return: A tuple of lists (source_id_text, target_id_text)\n",
    "    \"\"\"\n",
    "    # Whats the incoming data look like\n",
    "    print('source_vocab_to_int:', source_vocab_to_int)\n",
    "    print('target_vocab_to_int:', target_vocab_to_int)\n",
    "    \n",
    "    # Convert characters to ids\n",
    "    source_id_text = [[source_vocab_to_int.get(letter) for letter in line.split()] for line in source_text.split('\\n')]\n",
    "    # print out the source_id_text\n",
    "    print('source_id_text:', source_id_text)\n",
    "    target_id_text = [[target_vocab_to_int.get(letter) for letter in line.split()] for line in target_text.split('\\n')]\n",
    "    # print out the target_id_text\n",
    "    print('target_id_text:', target_id_text)\n",
    "    # add the EOS to the end of each line\n",
    "    for i in range(len(target_id_text)):\n",
    "        target_id_text[i] += [target_vocab_to_int['<EOS>']]\n",
    "    return source_id_text, target_id_text\n",
    "\n",
    "\"\"\"\n",
    "DON'T MODIFY ANYTHING IN THIS CELL THAT IS BELOW THIS LINE\n",
    "\"\"\"\n",
    "tests.test_text_to_ids(text_to_ids)"
   ]
  },
  {
   "cell_type": "markdown",
   "metadata": {
    "deletable": true,
    "editable": true
   },
   "source": [
    "### Preprocess all the data and save it\n",
    "Running the code cell below will preprocess all the data and save it to file."
   ]
  },
  {
   "cell_type": "code",
   "execution_count": 80,
   "metadata": {
    "collapsed": false,
    "deletable": true,
    "editable": true
   },
   "outputs": [
    {
     "name": "stdout",
     "output_type": "stream",
     "text": [
      "source_vocab_to_int: {'their': 4, 'horse': 197, 'dry': 6, 'think': 113, 'wet': 7, 'driving': 8, 'banana.': 9, 'red': 10, 'animals': 12, 'next': 13, 'want': 115, ',': 14, 'usually': 15, 'lemon': 16, 'fun': 200, 'bears': 17, 'favorite': 18, 'chinese': 20, 'spring': 21, '.': 22, '<EOS>': 1, 'fruit.': 202, 'lion': 24, 'lemons': 222, 'sometimes': 86, 'snakes': 25, 'it': 26, 'fall': 223, 'he': 27, 'but': 193, 'lime.': 31, 'her': 29, 'april': 30, 'bananas.': 195, 'january': 33, 'mango.': 120, 'feared': 35, 'tower': 151, 'liked': 36, 'grocery': 11, 'that': 38, 'oranges.': 39, 'your': 40, 'strawberry.': 89, 'strawberries.': 41, 'we': 42, \"aren't\": 43, 'a': 44, 'mangoes': 45, 'you': 46, 'rabbit': 47, 'old': 50, 'cold': 48, 'football': 158, 'shiny': 54, 'lemons.': 53, 'hot': 55, 'weather': 117, 'little': 57, 'pears': 58, 'peaches.': 59, 'busy': 60, 'green': 61, 'rainy': 62, 'went': 63, 'grape.': 64, 'cat': 65, 'am': 68, 'was': 67, 'dislike': 52, 'drives': 69, 'peaches': 70, \"isn't\": 72, 'likes': 91, 'lake': 73, 'wanted': 74, 'when': 75, 'favorite.': 76, 'dislikes': 77, 'beautiful': 78, 'saw': 79, '<GO>': 3, 'wants': 81, 'my': 56, 'lemon.': 84, 'where': 85, 'english': 87, 'shark': 211, 'is': 88, 'pear.': 161, 'december': 49, 'monkeys': 127, 'disliked': 90, 'july': 92, 'she': 166, 'difficult': 93, 'snowy': 94, 'snake': 95, 'pear': 19, 'during': 96, 'go': 98, 'does': 99, 'february': 100, 'strawberry': 101, 'china': 102, 'pears.': 105, 'october': 104, 'his': 106, 'i': 131, 'france': 221, 'car': 107, 'california': 108, 'yellow': 109, 'cats': 110, 'did': 111, 'school': 112, 'french': 66, 'never': 114, 'going': 116, 'big': 170, 'were': 118, 'apples': 119, 'grape': 121, 'mild': 122, 'birds': 215, 'lime': 206, 'may': 123, 'march': 124, 'mice': 125, 'elephants': 126, 'rusty': 128, 'plans': 129, 'like': 130, 'lions': 132, 'united': 23, 'white': 133, '?': 209, 'elephant': 134, 'wonderful': 135, 'fruit': 136, 'november': 137, 'oranges': 138, 'bear': 139, 'portuguese': 140, 'would': 141, 'rabbits': 142, 'summer': 143, 'relaxing': 144, 'drove': 174, 'the': 145, 'grapefruit': 146, 'horses': 212, 'states': 147, 'animal': 148, 'mango': 97, 'and': 149, 'thinks': 150, 'spanish': 5, 'limes.': 152, 'how': 153, 'apple.': 154, \"didn't\": 155, 'winter': 156, 'between': 157, 'limes': 159, 'field': 160, 'have': 162, 'chilly': 163, 'they': 164, 'grapes.': 165, 'might': 167, 'autumn': 168, 'nice': 169, 'grapes': 103, 'this': 171, 'liked.': 172, 'black': 173, 'mouse': 175, 'translating': 28, 'bananas': 176, 'has': 177, 'least': 178, 'june': 32, 'in': 179, \"it's\": 181, 'visit': 182, 'to': 183, 'dog': 184, 'plan': 185, 'store': 34, 'eiffel': 187, '<PAD>': 0, 'september': 188, 'easy': 189, 'bird': 190, 'why': 191, 'new': 192, 'orange': 220, 'apples.': 180, 'most': 194, 'quiet': 196, 'peach.': 51, 'grapefruit.': 198, 'loved': 199, 'last': 201, 'our': 203, 'dogs': 204, 'august': 207, 'automobile': 37, 'truck': 205, 'monkey': 80, 'warm': 83, 'india': 210, 'peach': 208, 'blue': 213, 'loved.': 214, '<UNK>': 2, 'apple': 216, 'are': 217, 'strawberries': 218, 'orange.': 82, 'freezing': 219, 'sharks': 71, 'paris': 224, 'banana': 225, 'jersey': 226, 'been': 186, 'pleasant': 227, 'translate': 228, 'mangoes.': 229, 'do': 230}\n",
      "target_vocab_to_int: {'facile': 157, 'allée': 158, '-ce': 159, \"l'oiseau\": 4, 'prévois': 292, ',': 161, 'pleut': 5, 'volant': 6, 'mai': 7, 'requin': 8, 'poires': 9, 'détestez': 163, '-elle': 164, 'aimons': 165, 'leur': 12, 'moindres': 321, 'lion': 167, \"l'automne\": 168, 'vont': 160, 'va': 169, 'grandes': 170, 'proches': 171, 'sèche': 14, 'doux': 15, 'des': 172, 'juin': 248, 'voulait': 16, 'êtes-vous': 17, 'tout': 173, 'visite': 18, 'fraise': 19, \"l'automobile\": 20, 'monde': 21, 'ses': 174, 'prévoient': 175, 'froid': 22, 'grand': 29, 'ce': 23, 'cet': 176, 'lapins': 177, 'glaciales': 178, 'clémentes': 180, 'pourquoi': 181, 'pamplemousses': 25, 'verte': 280, 'prochain': 26, 'petite': 182, 'frisquet': 183, 'chat': 229, 'plaît': 27, 'animaux': 184, 'requins': 231, 't': 28, 'voulaient': 10, 'enneigée': 186, 'préféré.': 162, 'brillante': 187, 'qui': 265, 'californie': 189, 'bleu': 190, 'entre': 191, 'mon': 30, 'oiseaux': 31, 'favoris': 32, 'petit': 33, 'oiseau': 34, 'quand': 35, 'étaient': 166, 'plus': 192, 'où': 193, 'occupé': 37, 'enneigé': 38, 'souvent': 89, 'sur': 111, 'je': 194, 'ressort': 195, 'été': 196, 'moteur': 39, 'citrons': 197, 'chaux': 40, 'pendant': 41, 'california': 43, 'nous': 199, 'nos': 44, 'il': 45, 'mes': 46, 'traduis': 201, 'prévoyons': 202, 'etats-unis': 204, 'inde': 205, 'en': 11, 'pommes': 206, '<EOS>': 1, \"n'aimez\": 207, 'serpents': 208, 'légère': 36, 'magnifique': 210, 'aimée': 47, 'cette': 79, 'occupée': 48, 'congélation': 270, 'i': 49, 'pensez': 50, 'préférés': 211, 'lions': 212, 'pêches': 213, 'nouveau': 51, 'allé': 214, 'elle': 52, 'habituellement': 215, 'beau': 76, 'dernière': 53, 'moins': 54, 'banane': 55, 'leurs': 216, 'veulent': 217, 'aime': 56, 'pomme': 218, 'sont': 219, 'mois': 220, 'rouillé': 221, 'aimait': 42, 'jamais': 57, 'rouille': 65, 'mars': 58, 'portugais': 224, 'avons': 227, 'blanche': 226, \"c'est\": 59, 'éléphant': 228, 'à': 230, 'rendre': 304, 'chien': 61, 'conduite': 62, \"qu'elle\": 232, 'nouvelle': 63, \"l'ours\": 64, 'mouillé': 233, 'traduction': 139, 'visiter': 234, 'parfois': 66, 'prévoit': 67, 'avez': 68, 'gèle': 69, 'allés': 236, 'octobre': 70, 'singes': 238, 'vous': 331, 'septembre': 239, 'chaude': 71, 'bananes': 72, 'new': 241, 'pense': 73, 'manguiers': 235, 'camion': 13, 'serpent': 242, 'pas': 243, 'tranquille': 273, 'bien': 244, 'août': 245, 'aux': 247, 'temps': 249, 'as-tu': 250, 'grosses': 75, 'mouillée': 143, 'chevaux': 251, '?': 252, 'que': 77, 'ont': 78, 'du': 120, 'blanc': 237, 'souris': 200, 'paris': 81, 'voulez': 254, 'grande': 344, 'français': 255, 'son': 256, 'terrain': 83, 'avril': 257, 'est-ce': 258, 'pluie': 259, 'calme': 203, 'janvier': 240, 'chine': 260, 'préférée': 261, \"n'aimons\": 262, 'éléphants': 84, 'trouvé': 85, '-ils': 263, 'apprécié': 264, 'citron': 86, \"n'aime\": 346, 'traduire': 87, 'gel': 88, 'vieux': 267, 'fraises': 268, '.': 90, 'es-tu': 91, 'grosse': 92, \"n'est\": 269, 'les': 271, 'douce': 266, 'a': 279, 'lui': 272, 'aimé': 93, 'pêche': 94, 'automobile': 95, 'chinois': 274, 'aiment-ils': 97, 'agréable': 98, 'gros': 275, 'un': 276, 'vais': 277, 'la': 278, 'états-unis': 99, '<PAD>': 0, 'chiens': 100, 'gelés': 281, 'dans': 96, 'allez': 101, 'brillant': 283, 'votre': 284, 'pluvieux': 102, 'aimez': 209, 'humide': 285, 'grands': 286, 'généralement': 103, 'redoutés': 288, \"d'\": 289, 'ours': 104, 'mangue': 105, 'cépage': 74, 'cours': 290, 'pluies': 108, '<GO>': 3, 'relaxant': 291, 'détendre': 282, \"j'aime\": 293, 'maillot': 106, 'intention': 107, \"l'orange\": 294, 'pourrait': 295, 'juillet': 109, 'fait': 296, 'belle': 110, 'chats': 297, 'verts': 246, 'décembre': 298, 'veut': 299, 'jaune': 24, 'lac': 179, 'novembre': 300, 'allions': 301, \"n'aiment\": 112, \"n'êtes\": 302, \"l'école\": 125, 'raisins': 303, 'merveilleux': 113, 'vieille': 114, 'une': 115, 'détestait': 305, 'envisage': 116, 'chaud': 117, 'aller': 306, 'ils': 307, 'conduit': 118, 'allons': 119, 'envisagent': 308, 'petits': 309, 'vert': 121, 'le': 122, 'porcelaine': 310, 'peu': 324, 'pousse': 311, 'préféré': 188, 'espagnol': 123, 'favori': 312, 'aimeraient': 313, 'bleue': 124, 'cheval': 314, 'aiment': 354, 'rouge': 126, \"n'aimait\": 127, 'vit': 253, 'comme': 315, 'vos': 128, 'rouillée': 316, 'limes': 60, 'hiver': 129, 'fruit': 130, 'ne': 132, 'oranges': 133, 'neigeux': 198, 'noire': 131, 'aimés': 317, 'est': 134, 'difficile': 318, 'lapin': 319, 'aimé.': 136, 'fruits': 320, 'vu': 322, 'amusant': 287, \"l'animal\": 323, 'trop': 137, 'football': 325, \"n'a\": 225, 'anglais': 326, 'mangues': 327, 'durant': 328, 'neige': 329, 'noir': 330, '-': 332, 'de': 138, 'pamplemousse': 333, 'détestons': 334, 'petites': 349, 'poire': 335, 'pourraient': 140, 'voiture': 336, 'automne': 141, 'et': 337, 'dernier': 338, \"l'épicerie\": 339, 'sec': 142, 'bénigne': 340, 'conduisait': 342, 'printemps': 343, 'eiffel': 144, \"qu'il\": 345, 'redouté': 145, 'février': 223, \"l'\": 80, 'mais': 341, 'se': 347, 'at': 348, 'frais': 350, 'au': 351, 'cher': 352, 'redoutée': 82, 'faire': 146, 'voudrait': 147, 'gelé': 353, 'comment': 148, 'vers': 222, \"l'éléphant\": 149, 'tour': 355, '-il': 356, '<UNK>': 2, 'singe': 150, 'notre': 151, 'raisin': 152, 'france': 153, 'préférées': 154, 'jersey': 357, 'détend': 185, 'animal': 135, 'déteste': 155, 'était': 156}\n"
     ]
    }
   ],
   "source": [
    "\"\"\"\n",
    "DON'T MODIFY ANYTHING IN THIS CELL\n",
    "\"\"\"\n",
    "helper.preprocess_and_save_data(source_path, target_path, text_to_ids)"
   ]
  },
  {
   "cell_type": "markdown",
   "metadata": {
    "deletable": true,
    "editable": true
   },
   "source": [
    "# Check Point\n",
    "This is your first checkpoint. If you ever decide to come back to this notebook or have to restart the notebook, you can start from here. The preprocessed data has been saved to disk."
   ]
  },
  {
   "cell_type": "code",
   "execution_count": 81,
   "metadata": {
    "collapsed": false,
    "deletable": true,
    "editable": true
   },
   "outputs": [],
   "source": [
    "\"\"\"\n",
    "DON'T MODIFY ANYTHING IN THIS CELL\n",
    "\"\"\"\n",
    "import numpy as np\n",
    "import helper\n",
    "\n",
    "(source_int_text, target_int_text), (source_vocab_to_int, target_vocab_to_int), _ = helper.load_preprocess()"
   ]
  },
  {
   "cell_type": "markdown",
   "metadata": {
    "deletable": true,
    "editable": true
   },
   "source": [
    "### Check the Version of TensorFlow and Access to GPU\n",
    "This will check to make sure you have the correct version of TensorFlow and access to a GPU"
   ]
  },
  {
   "cell_type": "code",
   "execution_count": 82,
   "metadata": {
    "collapsed": false,
    "deletable": true,
    "editable": true
   },
   "outputs": [
    {
     "name": "stdout",
     "output_type": "stream",
     "text": [
      "TensorFlow Version: 1.0.0\n"
     ]
    },
    {
     "name": "stderr",
     "output_type": "stream",
     "text": [
      "/Users/rjevans/miniconda3/lib/python3.5/site-packages/ipykernel/__main__.py:14: UserWarning: No GPU found. Please use a GPU to train your neural network.\n"
     ]
    }
   ],
   "source": [
    "\"\"\"\n",
    "DON'T MODIFY ANYTHING IN THIS CELL\n",
    "\"\"\"\n",
    "from distutils.version import LooseVersion\n",
    "import warnings\n",
    "import tensorflow as tf\n",
    "\n",
    "# Check TensorFlow Version\n",
    "assert LooseVersion(tf.__version__) >= LooseVersion('1.0'), 'Please use TensorFlow version 1.0 or newer'\n",
    "print('TensorFlow Version: {}'.format(tf.__version__))\n",
    "\n",
    "# Check for a GPU\n",
    "if not tf.test.gpu_device_name():\n",
    "    warnings.warn('No GPU found. Please use a GPU to train your neural network.')\n",
    "else:\n",
    "    print('Default GPU Device: {}'.format(tf.test.gpu_device_name()))"
   ]
  },
  {
   "cell_type": "markdown",
   "metadata": {
    "deletable": true,
    "editable": true
   },
   "source": [
    "## Build the Neural Network\n",
    "You'll build the components necessary to build a Sequence-to-Sequence model by implementing the following functions below:\n",
    "- `model_inputs`\n",
    "- `process_decoding_input`\n",
    "- `encoding_layer`\n",
    "- `decoding_layer_train`\n",
    "- `decoding_layer_infer`\n",
    "- `decoding_layer`\n",
    "- `seq2seq_model`\n",
    "\n",
    "### Input\n",
    "Implement the `model_inputs()` function to create TF Placeholders for the Neural Network. It should create the following placeholders:\n",
    "\n",
    "- Input text placeholder named \"input\" using the TF Placeholder name parameter with rank 2.\n",
    "- Targets placeholder with rank 2.\n",
    "- Learning rate placeholder with rank 0.\n",
    "- Keep probability placeholder named \"keep_prob\" using the TF Placeholder name parameter with rank 0.\n",
    "\n",
    "Return the placeholders in the following the tuple (Input, Targets, Learing Rate, Keep Probability)"
   ]
  },
  {
   "cell_type": "code",
   "execution_count": 86,
   "metadata": {
    "collapsed": false,
    "deletable": true,
    "editable": true
   },
   "outputs": [
    {
     "name": "stdout",
     "output_type": "stream",
     "text": [
      "Tests Passed\n"
     ]
    }
   ],
   "source": [
    "def model_inputs():\n",
    "    \"\"\"\n",
    "    Create TF Placeholders for input, targets, and learning rate.\n",
    "    :return: Tuple (input, targets, learning rate, keep probability)\n",
    "    \"\"\"\n",
    "    # TODO: Implement Function\n",
    "    input = tf.placeholder(tf.int32, [None, None], name='input')\n",
    "    targets = tf.placeholder(tf.int32, [None, None], name='targets')\n",
    "    learning_rate = tf.placeholder(tf.float32, name='learning_rate')\n",
    "    keep_prob = tf.placeholder(tf.float32, name='keep_prob')\n",
    "    return input, targets, learning_rate, keep_prob\n",
    "\n",
    "\"\"\"\n",
    "DON'T MODIFY ANYTHING IN THIS CELL THAT IS BELOW THIS LINE\n",
    "\"\"\"\n",
    "tests.test_model_inputs(model_inputs)"
   ]
  },
  {
   "cell_type": "markdown",
   "metadata": {
    "deletable": true,
    "editable": true
   },
   "source": [
    "### Process Decoding Input\n",
    "Implement `process_decoding_input` using TensorFlow to remove the last word id from each batch in `target_data` and concat the GO ID to the begining of each batch."
   ]
  },
  {
   "cell_type": "code",
   "execution_count": 93,
   "metadata": {
    "collapsed": false,
    "deletable": true,
    "editable": true
   },
   "outputs": [
    {
     "name": "stdout",
     "output_type": "stream",
     "text": [
      "Tests Passed\n"
     ]
    }
   ],
   "source": [
    "import numpy as np\n",
    "\n",
    "def process_decoding_input(target_data, target_vocab_to_int, batch_size):\n",
    "    \"\"\"\n",
    "    Preprocess target data for dencoding\n",
    "    :param target_data: Target Placehoder\n",
    "    :param target_vocab_to_int: Dictionary to go from the target words to an id\n",
    "    :param batch_size: Batch Size\n",
    "    :return: Preprocessed target data\n",
    "    \"\"\"\n",
    "    \n",
    "    # Process the input we'll feed to the decoder\n",
    "    ending = tf.strided_slice(target_data, [0, 0], [batch_size, -1], [1, 1])\n",
    "    dec_input = tf.concat([tf.fill([batch_size, 1], target_vocab_to_int['<GO>']), ending], 1)\n",
    "\n",
    "    return dec_input\n",
    "\n",
    "\"\"\"\n",
    "DON'T MODIFY ANYTHING IN THIS CELL THAT IS BELOW THIS LINE\n",
    "\"\"\"\n",
    "tests.test_process_decoding_input(process_decoding_input)"
   ]
  },
  {
   "cell_type": "markdown",
   "metadata": {
    "deletable": true,
    "editable": true
   },
   "source": [
    "### Encoding\n",
    "Implement `encoding_layer()` to create a Encoder RNN layer using [`tf.nn.dynamic_rnn()`](https://www.tensorflow.org/api_docs/python/tf/nn/dynamic_rnn)."
   ]
  },
  {
   "cell_type": "code",
   "execution_count": 95,
   "metadata": {
    "collapsed": false,
    "deletable": true,
    "editable": true
   },
   "outputs": [
    {
     "name": "stdout",
     "output_type": "stream",
     "text": [
      "Tests Passed\n"
     ]
    }
   ],
   "source": [
    "def encoding_layer(rnn_inputs, rnn_size, num_layers, keep_prob):\n",
    "    \"\"\"\n",
    "    Create encoding layer\n",
    "    :param rnn_inputs: Inputs for the RNN\n",
    "    :param rnn_size: RNN Size\n",
    "    :param num_layers: Number of layers\n",
    "    :param keep_prob: Dropout keep probability\n",
    "    :return: RNN state\n",
    "    \"\"\"\n",
    "    \n",
    "    cell = tf.contrib.rnn.LSTMCell(rnn_size, state_is_tuple = True)\n",
    "    cell = tf.contrib.rnn.DropoutWrapper(cell, output_keep_prob = keep_prob)\n",
    "    cell = tf.contrib.rnn.MultiRNNCell([cell] * num_layers, state_is_tuple = True)\n",
    "    _, enc_state = tf.nn.dynamic_rnn(cell = cell, inputs = rnn_inputs, dtype = tf.float32)\n",
    "    \n",
    "    return enc_state\n",
    "\n",
    "\"\"\"\n",
    "DON'T MODIFY ANYTHING IN THIS CELL THAT IS BELOW THIS LINE\n",
    "\"\"\"\n",
    "tests.test_encoding_layer(encoding_layer)"
   ]
  },
  {
   "cell_type": "markdown",
   "metadata": {
    "deletable": true,
    "editable": true
   },
   "source": [
    "### Decoding - Training\n",
    "Create training logits using [`tf.contrib.seq2seq.simple_decoder_fn_train()`](https://www.tensorflow.org/api_docs/python/tf/contrib/seq2seq/simple_decoder_fn_train) and [`tf.contrib.seq2seq.dynamic_rnn_decoder()`](https://www.tensorflow.org/api_docs/python/tf/contrib/seq2seq/dynamic_rnn_decoder).  Apply the `output_fn` to the [`tf.contrib.seq2seq.dynamic_rnn_decoder()`](https://www.tensorflow.org/api_docs/python/tf/contrib/seq2seq/dynamic_rnn_decoder) outputs."
   ]
  },
  {
   "cell_type": "code",
   "execution_count": null,
   "metadata": {
    "collapsed": false,
    "deletable": true,
    "editable": true
   },
   "outputs": [],
   "source": [
    "def decoding_layer_train(encoder_state, dec_cell, dec_embed_input, sequence_length, decoding_scope,\n",
    "                         output_fn, keep_prob):\n",
    "    \"\"\"\n",
    "    Create a decoding layer for training\n",
    "    :param encoder_state: Encoder State\n",
    "    :param dec_cell: Decoder RNN Cell\n",
    "    :param dec_embed_input: Decoder embedded input\n",
    "    :param sequence_length: Sequence Length\n",
    "    :param decoding_scope: TenorFlow Variable Scope for decoding\n",
    "    :param output_fn: Function to apply the output layer\n",
    "    :param keep_prob: Dropout keep probability\n",
    "    :return: Train Logits\n",
    "    \"\"\"\n",
    "    # TODO: Implement Function\n",
    "    \n",
    "    with tf.variable_scope(\"decoding\") as decoding_scope:\n",
    "    # Training Decoder\n",
    "    train_decoder_fn = tf.contrib.seq2seq.simple_decoder_fn_train(encoder_state)\n",
    "    train_pred, _, _ = tf.contrib.seq2seq.dynamic_rnn_decoder(\n",
    "        dec_cell, train_decoder_fn, dec_embed_input, sequence_length, scope=decoding_scope)\n",
    "    \n",
    "    # Apply output function\n",
    "    train_logits =  output_fn(train_pred)\n",
    "    \n",
    "    return train_logits\n",
    "\n",
    "\n",
    "\"\"\"\n",
    "DON'T MODIFY ANYTHING IN THIS CELL THAT IS BELOW THIS LINE\n",
    "\"\"\"\n",
    "tests.test_decoding_layer_train(decoding_layer_train)"
   ]
  },
  {
   "cell_type": "markdown",
   "metadata": {
    "deletable": true,
    "editable": true
   },
   "source": [
    "### Decoding - Inference\n",
    "Create inference logits using [`tf.contrib.seq2seq.simple_decoder_fn_inference()`](https://www.tensorflow.org/api_docs/python/tf/contrib/seq2seq/simple_decoder_fn_inference) and [`tf.contrib.seq2seq.dynamic_rnn_decoder()`](https://www.tensorflow.org/api_docs/python/tf/contrib/seq2seq/dynamic_rnn_decoder). "
   ]
  },
  {
   "cell_type": "code",
   "execution_count": null,
   "metadata": {
    "collapsed": false,
    "deletable": true,
    "editable": true
   },
   "outputs": [],
   "source": [
    "def decoding_layer_infer(encoder_state, dec_cell, dec_embeddings, start_of_sequence_id, end_of_sequence_id,\n",
    "                         maximum_length, vocab_size, decoding_scope, output_fn, keep_prob):\n",
    "    \"\"\"\n",
    "    Create a decoding layer for inference\n",
    "    :param encoder_state: Encoder state\n",
    "    :param dec_cell: Decoder RNN Cell\n",
    "    :param dec_embeddings: Decoder embeddings\n",
    "    :param start_of_sequence_id: GO ID\n",
    "    :param end_of_sequence_id: EOS Id\n",
    "    :param maximum_length: Maximum length of \n",
    "    :param vocab_size: Size of vocabulary\n",
    "    :param decoding_scope: TensorFlow Variable Scope for decoding\n",
    "    :param output_fn: Function to apply the output layer\n",
    "    :param keep_prob: Dropout keep probability\n",
    "    :return: Inference Logits\n",
    "    \"\"\"\n",
    "    # TODO: Implement Function\n",
    "    return None\n",
    "\n",
    "\n",
    "\"\"\"\n",
    "DON'T MODIFY ANYTHING IN THIS CELL THAT IS BELOW THIS LINE\n",
    "\"\"\"\n",
    "tests.test_decoding_layer_infer(decoding_layer_infer)"
   ]
  },
  {
   "cell_type": "markdown",
   "metadata": {
    "deletable": true,
    "editable": true
   },
   "source": [
    "### Build the Decoding Layer\n",
    "Implement `decoding_layer()` to create a Decoder RNN layer.\n",
    "\n",
    "- Create RNN cell for decoding using `rnn_size` and `num_layers`.\n",
    "- Create the output fuction using [`lambda`](https://docs.python.org/3/tutorial/controlflow.html#lambda-expressions) to transform it's input, logits, to class logits.\n",
    "- Use the your `decoding_layer_train(encoder_state, dec_cell, dec_embed_input, sequence_length, decoding_scope, output_fn, keep_prob)` function to get the training logits.\n",
    "- Use your `decoding_layer_infer(encoder_state, dec_cell, dec_embeddings, start_of_sequence_id, end_of_sequence_id, maximum_length, vocab_size, decoding_scope, output_fn, keep_prob)` function to get the inference logits.\n",
    "\n",
    "Note: You'll need to use [tf.variable_scope](https://www.tensorflow.org/api_docs/python/tf/variable_scope) to share variables between training and inference."
   ]
  },
  {
   "cell_type": "code",
   "execution_count": null,
   "metadata": {
    "collapsed": false,
    "deletable": true,
    "editable": true
   },
   "outputs": [],
   "source": [
    "def decoding_layer(dec_embed_input, dec_embeddings, encoder_state, vocab_size, sequence_length, rnn_size,\n",
    "                   num_layers, target_vocab_to_int, keep_prob):\n",
    "    \"\"\"\n",
    "    Create decoding layer\n",
    "    :param dec_embed_input: Decoder embedded input\n",
    "    :param dec_embeddings: Decoder embeddings\n",
    "    :param encoder_state: The encoded state\n",
    "    :param vocab_size: Size of vocabulary\n",
    "    :param sequence_length: Sequence Length\n",
    "    :param rnn_size: RNN Size\n",
    "    :param num_layers: Number of layers\n",
    "    :param target_vocab_to_int: Dictionary to go from the target words to an id\n",
    "    :param keep_prob: Dropout keep probability\n",
    "    :return: Tuple of (Training Logits, Inference Logits)\n",
    "    \"\"\"\n",
    "    # TODO: Implement Function\n",
    "    return None, None\n",
    "\n",
    "\n",
    "\"\"\"\n",
    "DON'T MODIFY ANYTHING IN THIS CELL THAT IS BELOW THIS LINE\n",
    "\"\"\"\n",
    "tests.test_decoding_layer(decoding_layer)"
   ]
  },
  {
   "cell_type": "markdown",
   "metadata": {
    "deletable": true,
    "editable": true
   },
   "source": [
    "### Build the Neural Network\n",
    "Apply the functions you implemented above to:\n",
    "\n",
    "- Apply embedding to the input data for the encoder.\n",
    "- Encode the input using your `encoding_layer(rnn_inputs, rnn_size, num_layers, keep_prob)`.\n",
    "- Process target data using your `process_decoding_input(target_data, target_vocab_to_int, batch_size)` function.\n",
    "- Apply embedding to the target data for the decoder.\n",
    "- Decode the encoded input using your `decoding_layer(dec_embed_input, dec_embeddings, encoder_state, vocab_size, sequence_length, rnn_size, num_layers, target_vocab_to_int, keep_prob)`."
   ]
  },
  {
   "cell_type": "code",
   "execution_count": null,
   "metadata": {
    "collapsed": false,
    "deletable": true,
    "editable": true
   },
   "outputs": [],
   "source": [
    "def seq2seq_model(input_data, target_data, keep_prob, batch_size, sequence_length, source_vocab_size, target_vocab_size,\n",
    "                  enc_embedding_size, dec_embedding_size, rnn_size, num_layers, target_vocab_to_int):\n",
    "    \"\"\"\n",
    "    Build the Sequence-to-Sequence part of the neural network\n",
    "    :param input_data: Input placeholder\n",
    "    :param target_data: Target placeholder\n",
    "    :param keep_prob: Dropout keep probability placeholder\n",
    "    :param batch_size: Batch Size\n",
    "    :param sequence_length: Sequence Length\n",
    "    :param source_vocab_size: Source vocabulary size\n",
    "    :param target_vocab_size: Target vocabulary size\n",
    "    :param enc_embedding_size: Decoder embedding size\n",
    "    :param dec_embedding_size: Encoder embedding size\n",
    "    :param rnn_size: RNN Size\n",
    "    :param num_layers: Number of layers\n",
    "    :param target_vocab_to_int: Dictionary to go from the target words to an id\n",
    "    :return: Tuple of (Training Logits, Inference Logits)\n",
    "    \"\"\"\n",
    "    # TODO: Implement Function\n",
    "    return None\n",
    "\n",
    "\n",
    "\"\"\"\n",
    "DON'T MODIFY ANYTHING IN THIS CELL THAT IS BELOW THIS LINE\n",
    "\"\"\"\n",
    "tests.test_seq2seq_model(seq2seq_model)"
   ]
  },
  {
   "cell_type": "markdown",
   "metadata": {
    "deletable": true,
    "editable": true
   },
   "source": [
    "## Neural Network Training\n",
    "### Hyperparameters\n",
    "Tune the following parameters:\n",
    "\n",
    "- Set `epochs` to the number of epochs.\n",
    "- Set `batch_size` to the batch size.\n",
    "- Set `rnn_size` to the size of the RNNs.\n",
    "- Set `num_layers` to the number of layers.\n",
    "- Set `encoding_embedding_size` to the size of the embedding for the encoder.\n",
    "- Set `decoding_embedding_size` to the size of the embedding for the decoder.\n",
    "- Set `learning_rate` to the learning rate.\n",
    "- Set `keep_probability` to the Dropout keep probability"
   ]
  },
  {
   "cell_type": "code",
   "execution_count": null,
   "metadata": {
    "collapsed": true,
    "deletable": true,
    "editable": true
   },
   "outputs": [],
   "source": [
    "# Number of Epochs\n",
    "epochs = None\n",
    "# Batch Size\n",
    "batch_size = None\n",
    "# RNN Size\n",
    "rnn_size = None\n",
    "# Number of Layers\n",
    "num_layers = None\n",
    "# Embedding Size\n",
    "encoding_embedding_size = None\n",
    "decoding_embedding_size = None\n",
    "# Learning Rate\n",
    "learning_rate = None\n",
    "# Dropout Keep Probability\n",
    "keep_probability = None"
   ]
  },
  {
   "cell_type": "markdown",
   "metadata": {
    "deletable": true,
    "editable": true
   },
   "source": [
    "### Build the Graph\n",
    "Build the graph using the neural network you implemented."
   ]
  },
  {
   "cell_type": "code",
   "execution_count": null,
   "metadata": {
    "collapsed": false,
    "deletable": true,
    "editable": true
   },
   "outputs": [],
   "source": [
    "\"\"\"\n",
    "DON'T MODIFY ANYTHING IN THIS CELL\n",
    "\"\"\"\n",
    "save_path = 'checkpoints/dev'\n",
    "(source_int_text, target_int_text), (source_vocab_to_int, target_vocab_to_int), _ = helper.load_preprocess()\n",
    "max_target_sentence_length = max([len(sentence) for sentence in source_int_text])\n",
    "\n",
    "train_graph = tf.Graph()\n",
    "with train_graph.as_default():\n",
    "    input_data, targets, lr, keep_prob = model_inputs()\n",
    "    sequence_length = tf.placeholder_with_default(max_target_sentence_length, None, name='sequence_length')\n",
    "    input_shape = tf.shape(input_data)\n",
    "    \n",
    "    train_logits, inference_logits = seq2seq_model(\n",
    "        tf.reverse(input_data, [-1]), targets, keep_prob, batch_size, sequence_length, len(source_vocab_to_int), len(target_vocab_to_int),\n",
    "        encoding_embedding_size, decoding_embedding_size, rnn_size, num_layers, target_vocab_to_int)\n",
    "\n",
    "    tf.identity(inference_logits, 'logits')\n",
    "    with tf.name_scope(\"optimization\"):\n",
    "        # Loss function\n",
    "        cost = tf.contrib.seq2seq.sequence_loss(\n",
    "            train_logits,\n",
    "            targets,\n",
    "            tf.ones([input_shape[0], sequence_length]))\n",
    "\n",
    "        # Optimizer\n",
    "        optimizer = tf.train.AdamOptimizer(lr)\n",
    "\n",
    "        # Gradient Clipping\n",
    "        gradients = optimizer.compute_gradients(cost)\n",
    "        capped_gradients = [(tf.clip_by_value(grad, -1., 1.), var) for grad, var in gradients if grad is not None]\n",
    "        train_op = optimizer.apply_gradients(capped_gradients)"
   ]
  },
  {
   "cell_type": "markdown",
   "metadata": {
    "deletable": true,
    "editable": true
   },
   "source": [
    "### Train\n",
    "Train the neural network on the preprocessed data. If you have a hard time getting a good loss, check the forms to see if anyone is having the same problem."
   ]
  },
  {
   "cell_type": "code",
   "execution_count": null,
   "metadata": {
    "collapsed": false,
    "deletable": true,
    "editable": true,
    "scrolled": true
   },
   "outputs": [],
   "source": [
    "\"\"\"\n",
    "DON'T MODIFY ANYTHING IN THIS CELL\n",
    "\"\"\"\n",
    "import time\n",
    "\n",
    "def get_accuracy(target, logits):\n",
    "    \"\"\"\n",
    "    Calculate accuracy\n",
    "    \"\"\"\n",
    "    max_seq = max(target.shape[1], logits.shape[1])\n",
    "    if max_seq - target.shape[1]:\n",
    "        target = np.pad(\n",
    "            target_batch,\n",
    "            [(0,0),(0,max_seq - target_batch.shape[1]), (0,0)],\n",
    "            'constant')\n",
    "    if max_seq - batch_train_logits.shape[1]:\n",
    "        logits = np.pad(\n",
    "            logits,\n",
    "            [(0,0),(0,max_seq - logits.shape[1]), (0,0)],\n",
    "            'constant')\n",
    "\n",
    "    return np.mean(np.equal(target, np.argmax(logits, 2)))\n",
    "\n",
    "train_source = source_int_text[batch_size:]\n",
    "train_target = target_int_text[batch_size:]\n",
    "\n",
    "valid_source = helper.pad_sentence_batch(source_int_text[:batch_size])\n",
    "valid_target = helper.pad_sentence_batch(target_int_text[:batch_size])\n",
    "\n",
    "with tf.Session(graph=train_graph) as sess:\n",
    "    sess.run(tf.global_variables_initializer())\n",
    "\n",
    "    for epoch_i in range(epochs):\n",
    "        for batch_i, (source_batch, target_batch) in enumerate(\n",
    "                helper.batch_data(train_source, train_target, batch_size)):\n",
    "            start_time = time.time()\n",
    "            \n",
    "            _, loss = sess.run(\n",
    "                [train_op, cost],\n",
    "                {input_data: source_batch,\n",
    "                 targets: target_batch,\n",
    "                 lr: learning_rate,\n",
    "                 sequence_length: target_batch.shape[1],\n",
    "                 keep_prob: keep_probability})\n",
    "            \n",
    "            batch_train_logits = sess.run(\n",
    "                inference_logits,\n",
    "                {input_data: source_batch, keep_prob: 1.0})\n",
    "            batch_valid_logits = sess.run(\n",
    "                inference_logits,\n",
    "                {input_data: valid_source, keep_prob: 1.0})\n",
    "                \n",
    "            train_acc = get_accuracy(target_batch, batch_train_logits)\n",
    "            valid_acc = get_accuracy(np.array(valid_target), batch_valid_logits)\n",
    "            end_time = time.time()\n",
    "            print('Epoch {:>3} Batch {:>4}/{} - Train Accuracy: {:>6.3f}, Validation Accuracy: {:>6.3f}, Loss: {:>6.3f}'\n",
    "                  .format(epoch_i, batch_i, len(source_int_text) // batch_size, train_acc, valid_acc, loss))\n",
    "\n",
    "    # Save Model\n",
    "    saver = tf.train.Saver()\n",
    "    saver.save(sess, save_path)\n",
    "    print('Model Trained and Saved')"
   ]
  },
  {
   "cell_type": "markdown",
   "metadata": {
    "deletable": true,
    "editable": true
   },
   "source": [
    "### Save Parameters\n",
    "Save the `batch_size` and `save_path` parameters for inference."
   ]
  },
  {
   "cell_type": "code",
   "execution_count": null,
   "metadata": {
    "collapsed": false,
    "deletable": true,
    "editable": true
   },
   "outputs": [],
   "source": [
    "\"\"\"\n",
    "DON'T MODIFY ANYTHING IN THIS CELL\n",
    "\"\"\"\n",
    "# Save parameters for checkpoint\n",
    "helper.save_params(save_path)"
   ]
  },
  {
   "cell_type": "markdown",
   "metadata": {
    "deletable": true,
    "editable": true
   },
   "source": [
    "# Checkpoint"
   ]
  },
  {
   "cell_type": "code",
   "execution_count": null,
   "metadata": {
    "collapsed": false,
    "deletable": true,
    "editable": true
   },
   "outputs": [],
   "source": [
    "\"\"\"\n",
    "DON'T MODIFY ANYTHING IN THIS CELL\n",
    "\"\"\"\n",
    "import tensorflow as tf\n",
    "import numpy as np\n",
    "import helper\n",
    "import problem_unittests as tests\n",
    "\n",
    "_, (source_vocab_to_int, target_vocab_to_int), (source_int_to_vocab, target_int_to_vocab) = helper.load_preprocess()\n",
    "load_path = helper.load_params()"
   ]
  },
  {
   "cell_type": "markdown",
   "metadata": {
    "deletable": true,
    "editable": true
   },
   "source": [
    "## Sentence to Sequence\n",
    "To feed a sentence into the model for translation, you first need to preprocess it.  Implement the function `sentence_to_seq()` to preprocess new sentences.\n",
    "\n",
    "- Convert the sentence to lowercase\n",
    "- Convert words into ids using `vocab_to_int`\n",
    " - Convert words not in the vocabulary, to the `<UNK>` word id."
   ]
  },
  {
   "cell_type": "code",
   "execution_count": null,
   "metadata": {
    "collapsed": false,
    "deletable": true,
    "editable": true
   },
   "outputs": [],
   "source": [
    "def sentence_to_seq(sentence, vocab_to_int):\n",
    "    \"\"\"\n",
    "    Convert a sentence to a sequence of ids\n",
    "    :param sentence: String\n",
    "    :param vocab_to_int: Dictionary to go from the words to an id\n",
    "    :return: List of word ids\n",
    "    \"\"\"\n",
    "    # TODO: Implement Function\n",
    "    return None\n",
    "\n",
    "\n",
    "\"\"\"\n",
    "DON'T MODIFY ANYTHING IN THIS CELL THAT IS BELOW THIS LINE\n",
    "\"\"\"\n",
    "tests.test_sentence_to_seq(sentence_to_seq)"
   ]
  },
  {
   "cell_type": "markdown",
   "metadata": {
    "deletable": true,
    "editable": true
   },
   "source": [
    "## Translate\n",
    "This will translate `translate_sentence` from English to French."
   ]
  },
  {
   "cell_type": "code",
   "execution_count": null,
   "metadata": {
    "collapsed": false,
    "deletable": true,
    "editable": true
   },
   "outputs": [],
   "source": [
    "translate_sentence = 'he saw a old yellow truck .'\n",
    "\n",
    "\n",
    "\"\"\"\n",
    "DON'T MODIFY ANYTHING IN THIS CELL\n",
    "\"\"\"\n",
    "translate_sentence = sentence_to_seq(translate_sentence, source_vocab_to_int)\n",
    "\n",
    "loaded_graph = tf.Graph()\n",
    "with tf.Session(graph=loaded_graph) as sess:\n",
    "    # Load saved model\n",
    "    loader = tf.train.import_meta_graph(load_path + '.meta')\n",
    "    loader.restore(sess, load_path)\n",
    "\n",
    "    input_data = loaded_graph.get_tensor_by_name('input:0')\n",
    "    logits = loaded_graph.get_tensor_by_name('logits:0')\n",
    "    keep_prob = loaded_graph.get_tensor_by_name('keep_prob:0')\n",
    "\n",
    "    translate_logits = sess.run(logits, {input_data: [translate_sentence], keep_prob: 1.0})[0]\n",
    "\n",
    "print('Input')\n",
    "print('  Word Ids:      {}'.format([i for i in translate_sentence]))\n",
    "print('  English Words: {}'.format([source_int_to_vocab[i] for i in translate_sentence]))\n",
    "\n",
    "print('\\nPrediction')\n",
    "print('  Word Ids:      {}'.format([i for i in np.argmax(translate_logits, 1)]))\n",
    "print('  French Words: {}'.format([target_int_to_vocab[i] for i in np.argmax(translate_logits, 1)]))"
   ]
  },
  {
   "cell_type": "markdown",
   "metadata": {
    "deletable": true,
    "editable": true
   },
   "source": [
    "## Imperfect Translation\n",
    "You might notice that some sentences translate better than others.  Since the dataset you're using only has a vocabulary of 227 English words of the thousands that you use, you're only going to see good results using these words.  For this project, you don't need a perfect translation. However, if you want to create a better translation model, you'll need better data.\n",
    "\n",
    "You can train on the [WMT10 French-English corpus](http://www.statmt.org/wmt10/training-giga-fren.tar).  This dataset has more vocabulary and richer in topics discussed.  However, this will take you days to train, so make sure you've a GPU and the neural network is performing well on dataset we provided.  Just make sure you play with the WMT10 corpus after you've submitted this project.\n",
    "## Submitting This Project\n",
    "When submitting this project, make sure to run all the cells before saving the notebook. Save the notebook file as \"dlnd_language_translation.ipynb\" and save it as a HTML file under \"File\" -> \"Download as\". Include the \"helper.py\" and \"problem_unittests.py\" files in your submission."
   ]
  }
 ],
 "metadata": {
  "kernelspec": {
   "display_name": "Python 3",
   "language": "python",
   "name": "python3"
  },
  "language_info": {
   "codemirror_mode": {
    "name": "ipython",
    "version": 3
   },
   "file_extension": ".py",
   "mimetype": "text/x-python",
   "name": "python",
   "nbconvert_exporter": "python",
   "pygments_lexer": "ipython3",
   "version": "3.5.3"
  }
 },
 "nbformat": 4,
 "nbformat_minor": 0
}
