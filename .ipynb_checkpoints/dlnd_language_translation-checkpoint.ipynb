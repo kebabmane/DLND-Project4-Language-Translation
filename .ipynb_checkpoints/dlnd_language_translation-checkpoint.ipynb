{
 "cells": [
  {
   "cell_type": "markdown",
   "metadata": {
    "collapsed": true
   },
   "source": [
    "# Language Translation\n",
    "In this project, you’re going to take a peek into the realm of neural network machine translation.  You’ll be training a sequence to sequence model on a dataset of English and French sentences that can translate new sentences from English to French.\n",
    "## Get the Data\n",
    "Since translating the whole language of English to French will take lots of time to train, we have provided you with a small portion of the English corpus."
   ]
  },
  {
   "cell_type": "code",
   "execution_count": 1,
   "metadata": {},
   "outputs": [],
   "source": [
    "\"\"\"\n",
    "DON'T MODIFY ANYTHING IN THIS CELL\n",
    "\"\"\"\n",
    "import helper\n",
    "import problem_unittests as tests\n",
    "\n",
    "source_path = 'data/small_vocab_en'\n",
    "target_path = 'data/small_vocab_fr'\n",
    "source_text = helper.load_data(source_path)\n",
    "target_text = helper.load_data(target_path)"
   ]
  },
  {
   "cell_type": "markdown",
   "metadata": {},
   "source": [
    "## Explore the Data\n",
    "Play around with view_sentence_range to view different parts of the data."
   ]
  },
  {
   "cell_type": "code",
   "execution_count": 2,
   "metadata": {},
   "outputs": [
    {
     "name": "stdout",
     "output_type": "stream",
     "text": [
      "Dataset Stats\n",
      "Roughly the number of unique words: 227\n",
      "Number of sentences: 137861\n",
      "Average number of words in a sentence: 13.225277634719028\n",
      "\n",
      "English sentences 0 to 10:\n",
      "new jersey is sometimes quiet during autumn , and it is snowy in april .\n",
      "the united states is usually chilly during july , and it is usually freezing in november .\n",
      "california is usually quiet during march , and it is usually hot in june .\n",
      "the united states is sometimes mild during june , and it is cold in september .\n",
      "your least liked fruit is the grape , but my least liked is the apple .\n",
      "his favorite fruit is the orange , but my favorite is the grape .\n",
      "paris is relaxing during december , but it is usually chilly in july .\n",
      "new jersey is busy during spring , and it is never hot in march .\n",
      "our least liked fruit is the lemon , but my least liked is the grape .\n",
      "the united states is sometimes busy during january , and it is sometimes warm in november .\n",
      "\n",
      "French sentences 0 to 10:\n",
      "new jersey est parfois calme pendant l' automne , et il est neigeux en avril .\n",
      "les états-unis est généralement froid en juillet , et il gèle habituellement en novembre .\n",
      "california est généralement calme en mars , et il est généralement chaud en juin .\n",
      "les états-unis est parfois légère en juin , et il fait froid en septembre .\n",
      "votre moins aimé fruit est le raisin , mais mon moins aimé est la pomme .\n",
      "son fruit préféré est l'orange , mais mon préféré est le raisin .\n",
      "paris est relaxant en décembre , mais il est généralement froid en juillet .\n",
      "new jersey est occupé au printemps , et il est jamais chaude en mars .\n",
      "notre fruit est moins aimé le citron , mais mon moins aimé est le raisin .\n",
      "les états-unis est parfois occupé en janvier , et il est parfois chaud en novembre .\n"
     ]
    }
   ],
   "source": [
    "view_sentence_range = (0, 10)\n",
    "\n",
    "\"\"\"\n",
    "DON'T MODIFY ANYTHING IN THIS CELL\n",
    "\"\"\"\n",
    "import numpy as np\n",
    "\n",
    "print('Dataset Stats')\n",
    "print('Roughly the number of unique words: {}'.format(len({word: None for word in source_text.split()})))\n",
    "\n",
    "sentences = source_text.split('\\n')\n",
    "word_counts = [len(sentence.split()) for sentence in sentences]\n",
    "print('Number of sentences: {}'.format(len(sentences)))\n",
    "print('Average number of words in a sentence: {}'.format(np.average(word_counts)))\n",
    "\n",
    "print()\n",
    "print('English sentences {} to {}:'.format(*view_sentence_range))\n",
    "print('\\n'.join(source_text.split('\\n')[view_sentence_range[0]:view_sentence_range[1]]))\n",
    "print()\n",
    "print('French sentences {} to {}:'.format(*view_sentence_range))\n",
    "print('\\n'.join(target_text.split('\\n')[view_sentence_range[0]:view_sentence_range[1]]))"
   ]
  },
  {
   "cell_type": "markdown",
   "metadata": {},
   "source": [
    "## Implement Preprocessing Function\n",
    "### Text to Word Ids\n",
    "As you did with other RNNs, you must turn the text into a number so the computer can understand it. In the function `text_to_ids()`, you'll turn `source_text` and `target_text` from words to ids.  However, you need to add the `<EOS>` word id at the end of each sentence from `target_text`.  This will help the neural network predict when the sentence should end.\n",
    "\n",
    "You can get the `<EOS>` word id by doing:\n",
    "```python\n",
    "target_vocab_to_int['<EOS>']\n",
    "```\n",
    "You can get other word ids using `source_vocab_to_int` and `target_vocab_to_int`."
   ]
  },
  {
   "cell_type": "code",
   "execution_count": 3,
   "metadata": {},
   "outputs": [
    {
     "name": "stdout",
     "output_type": "stream",
     "text": [
      "source_vocab_to_int: {'snowy': 14, 'the': 4, 'california': 23, 'july': 15, '<UNK>': 2, 'united': 16, '.': 17, 'june': 32, 'is': 19, 'march': 11, 'chilly': 22, 'quiet': 20, 'jersey': 5, '<EOS>': 1, 'april': 6, 'during': 21, '<PAD>': 0, '<GO>': 3, 'hot': 7, 'new': 8, 'freezing': 9, 'states': 10, 'mild': 25, 'and': 29, 'autumn': 26, 'it': 27, ',': 28, 'cold': 24, 'sometimes': 31, 'november': 30, 'september': 18, 'usually': 12, 'in': 13}\n",
      "target_vocab_to_int: {'habituellement': 18, 'california': 28, 'parfois': 19, '<UNK>': 2, 'est': 4, 'chaud': 23, 'pendant': 5, 'et': 6, 'les': 25, 'en': 8, '<EOS>': 1, 'il': 9, 'gèle': 26, 'novembre': 27, 'automne': 10, '<PAD>': 0, 'froid': 11, 'mars': 29, 'juillet': 12, 'états-unis': 13, 'new': 14, 'généralement': 20, 'jersey': 7, 'calme': 16, ',': 31, 'septembre': 32, 'fait': 17, 'neigeux': 15, \"l'\": 21, 'juin': 33, 'avril': 30, '<GO>': 3, 'légère': 24, '.': 22}\n",
      "source_id_text: [[8, 5, 19, 31, 20, 21, 26, 28, 29, 27, 19, 14, 13, 6, 17], [4, 16, 10, 19, 12, 22, 21, 15, 28, 29, 27, 19, 12, 9, 13, 30, 17], [23, 19, 12, 20, 21, 11, 28, 29, 27, 19, 12, 7, 13, 32, 17], [4, 16, 10, 19, 31, 25, 21, 32, 28, 29, 27, 19, 24, 13, 18, 17]]\n",
      "target_id_text: [[14, 7, 4, 19, 16, 5, 21, 10, 31, 6, 9, 4, 15, 8, 30, 22], [25, 13, 4, 20, 11, 8, 12, 31, 6, 9, 26, 18, 8, 27, 22], [28, 4, 20, 16, 8, 29, 31, 6, 9, 4, 20, 23, 8, 33, 22], [25, 13, 4, 19, 24, 8, 33, 31, 6, 9, 17, 11, 8, 32, 22]]\n",
      "Tests Passed\n"
     ]
    }
   ],
   "source": [
    "def text_to_ids(source_text, target_text, source_vocab_to_int, target_vocab_to_int):\n",
    "    \"\"\"\n",
    "    Convert source and target text to proper word ids\n",
    "    :param source_text: String that contains all the source text.\n",
    "    :param target_text: String that contains all the target text.\n",
    "    :param source_vocab_to_int: Dictionary to go from the source words to an id\n",
    "    :param target_vocab_to_int: Dictionary to go from the target words to an id\n",
    "    :return: A tuple of lists (source_id_text, target_id_text)\n",
    "    \"\"\"\n",
    "    # Whats the incoming data look like\n",
    "    print('source_vocab_to_int:', source_vocab_to_int)\n",
    "    print('target_vocab_to_int:', target_vocab_to_int)\n",
    "    \n",
    "    # Convert characters to ids\n",
    "    source_id_text = [[source_vocab_to_int.get(letter) for letter in line.split()] for line in source_text.split('\\n')]\n",
    "    # print out the source_id_text\n",
    "    print('source_id_text:', source_id_text)\n",
    "    target_id_text = [[target_vocab_to_int.get(letter) for letter in line.split()] for line in target_text.split('\\n')]\n",
    "    # print out the target_id_text\n",
    "    print('target_id_text:', target_id_text)\n",
    "    # add the EOS to the end of each line\n",
    "    for i in range(len(target_id_text)):\n",
    "        target_id_text[i] += [target_vocab_to_int['<EOS>']]\n",
    "    return source_id_text, target_id_text\n",
    "\n",
    "\"\"\"\n",
    "DON'T MODIFY ANYTHING IN THIS CELL THAT IS BELOW THIS LINE\n",
    "\"\"\"\n",
    "tests.test_text_to_ids(text_to_ids)"
   ]
  },
  {
   "cell_type": "markdown",
   "metadata": {},
   "source": [
    "### Preprocess all the data and save it\n",
    "Running the code cell below will preprocess all the data and save it to file."
   ]
  },
  {
   "cell_type": "code",
   "execution_count": 4,
   "metadata": {},
   "outputs": [
    {
     "name": "stdout",
     "output_type": "stream",
     "text": [
      "source_vocab_to_int: {'horses': 4, 'how': 5, 'orange.': 40, 'drove': 6, 'red': 7, 'has': 8, '?': 9, \"aren't\": 10, 'hot': 11, 'freezing': 12, 'states': 13, 'your': 14, 'bears': 15, 'grape.': 16, 'august': 17, 'plans': 18, 'usually': 19, 'blue': 21, 'between': 22, 'animals': 23, 'oranges.': 24, 'dislike': 26, 'monkeys': 28, 'white': 32, 'went': 31, 'liked': 230, 'september': 33, 'is': 34, 'quiet': 35, 'during': 37, 'nice': 39, 'did': 41, 'football': 165, 'california': 42, \"it's\": 43, 'busy': 44, 'dry': 49, 'am': 45, 'mango': 46, 'orange': 47, 'shark': 48, 'fall': 119, 'plan': 50, 'tower': 54, ',': 52, 'birds': 55, 'banana.': 56, 'that': 57, 'dog': 58, 'loved.': 59, 'mouse': 61, 'lions': 36, 'snakes': 190, 'big': 51, 'paris': 206, 'shiny': 63, 'monkey': 53, 'do': 64, 'november': 172, 'they': 65, 'jersey': 66, '<EOS>': 1, 'translate': 210, 'feared': 67, 'saw': 69, '<PAD>': 0, 'field': 205, \"didn't\": 70, 'march': 71, 'peach': 72, 'portuguese': 168, 'cold': 159, 'rabbit': 75, 'french': 76, 'this': 27, 'liked.': 77, 'was': 78, 'truck': 79, \"isn't\": 169, 'relaxing': 208, 'pears.': 80, 'limes.': 81, 'bananas.': 82, 'apple.': 83, 'rainy': 84, 'mango.': 85, 'car': 86, 'dogs': 87, 'peach.': 88, 'bananas': 89, 'limes': 90, 'would': 91, 'old': 93, 'a': 94, 'where': 99, 'rusty': 97, 'autumn': 98, 'it': 100, 'fruit.': 103, 'our': 102, 'visit': 60, 'sometimes': 104, 'you': 105, 'grapes.': 111, 'strawberries': 107, 'grapefruit.': 108, 'mangoes': 109, 'strawberry.': 132, 'wants': 188, 'warm': 112, 'going': 113, '<UNK>': 2, 'i': 114, 'strawberries.': 115, 'lemons.': 116, 'bird': 117, 'yellow': 118, 'the': 62, 'april': 120, 'animal': 121, 'peaches': 122, 'when': 123, 'horse': 124, 'dislikes': 125, 'pleasant': 126, 'bear': 127, 'lemon.': 128, 'fruit': 129, 'go': 130, 'lime': 131, 'never': 92, 'been': 133, '<GO>': 3, 'he': 134, 'snowy': 135, 'grapefruit': 136, 'pear.': 137, 'chinese': 138, 'may': 139, 'united': 140, '.': 141, 'drives': 143, 'in': 20, 'her': 144, 'apples': 145, 'france': 146, 'their': 147, 'wet': 152, 'apples.': 153, 'february': 155, 'chilly': 156, 'my': 157, 'english': 158, 'loved': 160, 'store': 161, 'cats': 162, 'why': 163, 'strawberry': 164, 'have': 166, 'beautiful': 95, 'banana': 167, 'mice': 29, 'rabbits': 170, 'and': 171, 'likes': 25, 'wanted': 174, 'little': 175, 'last': 176, 'does': 214, 'favorite': 177, 'winter': 178, 'black': 179, 'december': 180, 'lake': 181, 'thinks': 182, 'want': 223, 'we': 101, 'green': 68, 'grapes': 183, 'grape': 30, 'india': 184, 'might': 185, 'oranges': 186, 'peaches.': 189, 'fun': 96, 'new': 191, 'apple': 173, 'sharks': 192, 'most': 193, 'wonderful': 194, 'difficult': 187, 'lion': 195, 'driving': 196, 'elephant': 197, 'lemon': 142, 'china': 198, 'to': 199, 'spring': 106, 'were': 200, 'translating': 150, 'mangoes.': 201, 'spanish': 202, 'she': 203, 'july': 204, 'easy': 74, 'eiffel': 207, 'lime.': 73, 'favorite.': 149, 'are': 209, 'lemons': 110, 'summer': 211, 'weather': 151, 'pear': 148, 'cat': 212, 'least': 213, 'snake': 215, 'think': 216, 'grocery': 154, 'next': 217, 'mild': 218, 'his': 219, 'october': 220, 'like': 221, 'school': 222, 'automobile': 224, 'elephants': 225, 'but': 226, 'june': 227, 'january': 228, 'disliked': 229, 'pears': 38}\n",
      "target_vocab_to_int: {'je': 4, 'vous': 181, 'mai': 182, 'et': 183, 'leur': 5, 'veulent': 6, 't': 7, 'du': 187, 'pourrait': 188, '<PAD>': 0, 'souris': 190, 'pluie': 8, 'oiseau': 9, '-': 191, 'nous': 192, 'sec': 193, 'citrons': 194, 'redoutés': 195, '-ce': 10, 'détend': 12, 'décembre': 196, 'habituellement': 13, 'gel': 14, 'parfois': 197, 'enneigée': 15, \"l'automobile\": 153, 'préféré': 16, 'prévoit': 17, 'de': 200, 'merveilleux': 201, 'aimez': 18, \"n'aimait\": 19, 'tranquille': 202, 'en': 184, 'serpent': 203, 'favoris': 204, 'pourquoi': 205, 'son': 21, 'comment': 22, 'chevaux': 23, \"l'épicerie\": 24, 'pensez': 25, 'nos': 207, \"l'orange\": 208, 'voiture': 209, 'sont': 26, 'glaciales': 27, 'petites': 28, 'moindres': 211, 'français': 212, 'bénigne': 213, 'poires': 214, 'apprécié': 31, 'citron': 32, 'raisin': 33, '?': 189, '-ils': 216, 'éléphant': 217, 'as-tu': 35, 'traduction': 76, 'pas': 36, 'porcelaine': 37, 'animaux': 219, 'au': 220, 'chiens': 221, 'aimés': 38, 'êtes-vous': 274, 'grosse': 306, 'mes': 39, 'étaient': 40, \"l'\": 300, 'tout': 223, 'frais': 41, \"n'aime\": 42, 'mangue': 43, 'grands': 224, 'envisage': 44, \"l'ours\": 45, 'leurs': 46, 'visiter': 47, 'grandes': 79, 'mouillée': 48, 'dernier': 49, 'petite': 225, 'camion': 50, 'chat': 226, 'poire': 51, 'fraise': 227, 'a': 228, 'blanc': 52, 'avril': 229, 'humide': 53, 'à': 230, \"l'oiseau\": 54, 'brillant': 55, \"qu'il\": 232, 'gelé': 233, 'vers': 56, 'veut': 80, \"l'automne\": 57, 'aime': 58, 'vont': 59, 'était': 234, 'prévoient': 60, 'chinois': 61, 'préférés': 162, 'états-unis': 62, 'une': 235, 'verts': 30, 'où': 236, 'sur': 63, 'occupé': 64, 'beau': 237, 'vieux': 305, 'verte': 336, 'moins': 65, 'jaune': 66, 'cher': 238, 'rendre': 67, 'traduire': 82, 'cépage': 240, 'france': 68, 'raisins': 69, 'durant': 242, '<GO>': 3, 'oiseaux': 243, 'ont': 70, 'éléphants': 71, 'lapins': 72, 'aimé.': 74, 'lui': 75, 'petit': 247, 'blanche': 165, 'cours': 248, 'juin': 78, 'dernière': 249, 'conduit': 250, 'janvier': 251, 'volant': 252, 'février': 11, 'avez': 81, 'pendant': 253, 'belle': 83, 'il': 254, 'pommes': 308, '-il': 255, 'automne': 256, 'oranges': 84, 'clémentes': 85, 'requin': 86, 'vu': 257, 'terrain': 88, 'que': 258, 'ressort': 259, 'jamais': 167, 'occupée': 260, 'généralement': 261, 'paris': 89, 'préférée': 262, 'eiffel': 263, 'quand': 264, 'new': 87, 'lions': 279, 'ce': 90, 'etats-unis': 110, 'notre': 265, \"l'école\": 91, 'aimée': 280, 'pluvieux': 231, 'frisquet': 343, 'ours': 185, 'agréable': 266, 'inde': 77, 'détendre': 92, 'aiment': 93, 'chaux': 267, 'pomme': 268, 'septembre': 94, 'gelés': 270, 'lac': 95, 'gèle': 114, 'ne': 96, 'pêches': 97, 'un': 98, 'pourraient': 99, 'cheval': 100, 'voulait': 186, 'elle': 271, 'plus': 272, 'rouge': 273, 'hiver': 101, 'froid': 102, 'tour': 103, 'redoutée': 104, 'monde': 105, 'qui': 106, 'chine': 107, 'grand': 108, 'californie': 275, 'pleut': 276, 'souvent': 156, 'congélation': 20, 'ils': 277, 'brillante': 278, 'ses': 109, \"c'est\": 112, 'printemps': 111, 'manguiers': 281, 'noir': 113, 'va': 115, 'conduite': 282, 'california': 283, 'peu': 116, 'nouvelle': 284, 'redouté': 286, 'serpents': 117, 'se': 118, 'mon': 288, 'vais': 285, 'portugais': 198, 'douce': 119, 'vos': 289, 'enneigé': 290, 'vit': 121, 'mouillé': 122, 'pluies': 292, 'prévois': 293, 'maillot': 294, 'bleu': 295, 'favori': 296, 'déteste': 123, 'trop': 297, 'aimé': 298, \"n'est\": 246, 'aux': 124, 'difficile': 125, 'singes': 206, 'intention': 126, 'fait': 127, 'été': 299, 'légère': 348, 'chats': 128, \"n'a\": 73, \"j'aime\": 129, 'conduisait': 301, 'anglais': 302, 'limes': 303, 'faire': 130, 'aimeraient': 304, 'détestez': 131, \"n'aiment\": 132, 'temps': 133, 'allons': 307, 'sèche': 134, 'nouveau': 309, 'aimait': 310, 'plaît': 311, 'prochain': 135, 'le': 136, 'trouvé': 137, 'pamplemousse': 138, 'bleue': 139, 'rouillé': 322, 'vert': 312, 'gros': 140, '<UNK>': 2, 'i': 313, 'allions': 314, 'chien': 315, 'avons': 316, 'animal': 141, 'pousse': 317, 'mangues': 318, 'es-tu': 319, \"qu'elle\": 320, 'prévoyons': 245, 'mais': 321, 'calme': 142, 'entre': 143, 'fruit': 323, 'rouillée': 144, 'préférées': 324, 'allé': 145, 'mois': 325, ',': 287, 'aller': 326, 'rouille': 327, 'relaxant': 146, 'pêche': 147, 'noire': 328, 'petits': 148, 'allez': 149, 'traduis': 329, 'fruits': 150, 'bananes': 330, '-elle': 291, 'envisagent': 151, 'magnifique': 29, 'la': 152, 'football': 331, 'est-ce': 154, 'aimons': 155, 'jersey': 120, \"d'\": 157, 'lapin': 158, '<EOS>': 1, 'dans': 210, 'vieille': 159, 'voulaient': 332, 'octobre': 160, 'préféré.': 215, \"n'aimons\": 161, 'août': 333, 'allés': 199, 'allée': 334, 'doux': 335, 'espagnol': 163, 'est': 164, 'comme': 337, 'pamplemousses': 338, 'bien': 339, 'grosses': 340, 'juillet': 166, 'cet': 341, \"l'éléphant\": 342, 'détestait': 168, 'pense': 169, 'lion': 344, 'facile': 345, 'fraises': 244, 'at': 346, 'détestons': 34, '.': 239, 'amusant': 269, \"n'aimez\": 170, 'singe': 171, 'moteur': 172, 'neige': 347, 'chaud': 173, 'requins': 349, 'neigeux': 218, 'visite': 174, 'les': 350, 'novembre': 351, 'mars': 175, 'banane': 241, 'voulez': 176, 'voudrait': 222, 'proches': 177, 'chaude': 352, 'votre': 353, 'grande': 354, 'automobile': 178, 'des': 355, \"l'animal\": 179, 'aiment-ils': 356, \"n'êtes\": 180, 'cette': 357}\n"
     ]
    },
    {
     "name": "stderr",
     "output_type": "stream",
     "text": [
      "IOPub data rate exceeded.\n",
      "The notebook server will temporarily stop sending output\n",
      "to the client in order to avoid crashing it.\n",
      "To change this limit, set the config variable\n",
      "`--NotebookApp.iopub_data_rate_limit`.\n"
     ]
    }
   ],
   "source": [
    "\"\"\"\n",
    "DON'T MODIFY ANYTHING IN THIS CELL\n",
    "\"\"\"\n",
    "helper.preprocess_and_save_data(source_path, target_path, text_to_ids)"
   ]
  },
  {
   "cell_type": "markdown",
   "metadata": {},
   "source": [
    "# Check Point\n",
    "This is your first checkpoint. If you ever decide to come back to this notebook or have to restart the notebook, you can start from here. The preprocessed data has been saved to disk."
   ]
  },
  {
   "cell_type": "code",
   "execution_count": 5,
   "metadata": {},
   "outputs": [],
   "source": [
    "\"\"\"\n",
    "DON'T MODIFY ANYTHING IN THIS CELL\n",
    "\"\"\"\n",
    "import numpy as np\n",
    "import helper\n",
    "\n",
    "(source_int_text, target_int_text), (source_vocab_to_int, target_vocab_to_int), _ = helper.load_preprocess()"
   ]
  },
  {
   "cell_type": "markdown",
   "metadata": {},
   "source": [
    "### Check the Version of TensorFlow and Access to GPU\n",
    "This will check to make sure you have the correct version of TensorFlow and access to a GPU"
   ]
  },
  {
   "cell_type": "code",
   "execution_count": 6,
   "metadata": {},
   "outputs": [
    {
     "name": "stdout",
     "output_type": "stream",
     "text": [
      "TensorFlow Version: 1.0.1\n",
      "Default GPU Device: /gpu:0\n"
     ]
    }
   ],
   "source": [
    "\"\"\"\n",
    "DON'T MODIFY ANYTHING IN THIS CELL\n",
    "\"\"\"\n",
    "from distutils.version import LooseVersion\n",
    "import warnings\n",
    "import tensorflow as tf\n",
    "\n",
    "# Check TensorFlow Version\n",
    "assert LooseVersion(tf.__version__) >= LooseVersion('1.0'), 'Please use TensorFlow version 1.0 or newer'\n",
    "print('TensorFlow Version: {}'.format(tf.__version__))\n",
    "\n",
    "# Check for a GPU\n",
    "if not tf.test.gpu_device_name():\n",
    "    warnings.warn('No GPU found. Please use a GPU to train your neural network.')\n",
    "else:\n",
    "    print('Default GPU Device: {}'.format(tf.test.gpu_device_name()))"
   ]
  },
  {
   "cell_type": "markdown",
   "metadata": {},
   "source": [
    "## Build the Neural Network\n",
    "You'll build the components necessary to build a Sequence-to-Sequence model by implementing the following functions below:\n",
    "- `model_inputs`\n",
    "- `process_decoding_input`\n",
    "- `encoding_layer`\n",
    "- `decoding_layer_train`\n",
    "- `decoding_layer_infer`\n",
    "- `decoding_layer`\n",
    "- `seq2seq_model`\n",
    "\n",
    "### Input\n",
    "Implement the `model_inputs()` function to create TF Placeholders for the Neural Network. It should create the following placeholders:\n",
    "\n",
    "- Input text placeholder named \"input\" using the TF Placeholder name parameter with rank 2.\n",
    "- Targets placeholder with rank 2.\n",
    "- Learning rate placeholder with rank 0.\n",
    "- Keep probability placeholder named \"keep_prob\" using the TF Placeholder name parameter with rank 0.\n",
    "\n",
    "Return the placeholders in the following the tuple (Input, Targets, Learing Rate, Keep Probability)"
   ]
  },
  {
   "cell_type": "code",
   "execution_count": 7,
   "metadata": {},
   "outputs": [
    {
     "name": "stdout",
     "output_type": "stream",
     "text": [
      "Tests Passed\n"
     ]
    }
   ],
   "source": [
    "def model_inputs():\n",
    "    \"\"\"\n",
    "    Create TF Placeholders for input, targets, and learning rate.\n",
    "    :return: Tuple (input, targets, learning rate, keep probability)\n",
    "    \"\"\"\n",
    "    # TODO: Implement Function\n",
    "    input = tf.placeholder(tf.int32, [None, None], name='input')\n",
    "    targets = tf.placeholder(tf.int32, [None, None], name='targets')\n",
    "    learning_rate = tf.placeholder(tf.float32, name='learning_rate')\n",
    "    keep_prob = tf.placeholder(tf.float32, name='keep_prob')\n",
    "    return input, targets, learning_rate, keep_prob\n",
    "\n",
    "\"\"\"\n",
    "DON'T MODIFY ANYTHING IN THIS CELL THAT IS BELOW THIS LINE\n",
    "\"\"\"\n",
    "tests.test_model_inputs(model_inputs)"
   ]
  },
  {
   "cell_type": "markdown",
   "metadata": {},
   "source": [
    "### Process Decoding Input\n",
    "Implement `process_decoding_input` using TensorFlow to remove the last word id from each batch in `target_data` and concat the GO ID to the begining of each batch."
   ]
  },
  {
   "cell_type": "code",
   "execution_count": 8,
   "metadata": {},
   "outputs": [
    {
     "name": "stdout",
     "output_type": "stream",
     "text": [
      "Tests Passed\n"
     ]
    }
   ],
   "source": [
    "import numpy as np\n",
    "\n",
    "def process_decoding_input(target_data, target_vocab_to_int, batch_size):\n",
    "    \"\"\"\n",
    "    Preprocess target data for dencoding\n",
    "    :param target_data: Target Placehoder\n",
    "    :param target_vocab_to_int: Dictionary to go from the target words to an id\n",
    "    :param batch_size: Batch Size\n",
    "    :return: Preprocessed target data\n",
    "    \"\"\"\n",
    "    \n",
    "    # Process the input we'll feed to the decoder\n",
    "    ending = tf.strided_slice(target_data, [0, 0], [batch_size, -1], [1, 1])\n",
    "    dec_input = tf.concat([tf.fill([batch_size, 1], target_vocab_to_int['<GO>']), ending], 1)\n",
    "\n",
    "    return dec_input\n",
    "\n",
    "\"\"\"\n",
    "DON'T MODIFY ANYTHING IN THIS CELL THAT IS BELOW THIS LINE\n",
    "\"\"\"\n",
    "tests.test_process_decoding_input(process_decoding_input)"
   ]
  },
  {
   "cell_type": "markdown",
   "metadata": {},
   "source": [
    "### Encoding\n",
    "Implement `encoding_layer()` to create a Encoder RNN layer using [`tf.nn.dynamic_rnn()`](https://www.tensorflow.org/api_docs/python/tf/nn/dynamic_rnn)."
   ]
  },
  {
   "cell_type": "code",
   "execution_count": 95,
   "metadata": {},
   "outputs": [
    {
     "name": "stdout",
     "output_type": "stream",
     "text": [
      "Tests Passed\n"
     ]
    }
   ],
   "source": [
    "def encoding_layer(rnn_inputs, rnn_size, num_layers, keep_prob):\n",
    "    \"\"\"\n",
    "    Create encoding layer\n",
    "    :param rnn_inputs: Inputs for the RNN\n",
    "    :param rnn_size: RNN Size\n",
    "    :param num_layers: Number of layers\n",
    "    :param keep_prob: Dropout keep probability\n",
    "    :return: RNN state\n",
    "    \"\"\"\n",
    "    \n",
    "    cell = tf.contrib.rnn.LSTMCell(rnn_size, state_is_tuple = True)\n",
    "    cell = tf.contrib.rnn.DropoutWrapper(cell, output_keep_prob = keep_prob)\n",
    "    cell = tf.contrib.rnn.MultiRNNCell([cell] * num_layers, state_is_tuple = True)\n",
    "    _, enc_state = tf.nn.dynamic_rnn(cell = cell, inputs = rnn_inputs, dtype = tf.float32)\n",
    "    \n",
    "    return enc_state\n",
    "\n",
    "\"\"\"\n",
    "DON'T MODIFY ANYTHING IN THIS CELL THAT IS BELOW THIS LINE\n",
    "\"\"\"\n",
    "tests.test_encoding_layer(encoding_layer)"
   ]
  },
  {
   "cell_type": "markdown",
   "metadata": {},
   "source": [
    "### Decoding - Training\n",
    "Create training logits using [`tf.contrib.seq2seq.simple_decoder_fn_train()`](https://www.tensorflow.org/api_docs/python/tf/contrib/seq2seq/simple_decoder_fn_train) and [`tf.contrib.seq2seq.dynamic_rnn_decoder()`](https://www.tensorflow.org/api_docs/python/tf/contrib/seq2seq/dynamic_rnn_decoder).  Apply the `output_fn` to the [`tf.contrib.seq2seq.dynamic_rnn_decoder()`](https://www.tensorflow.org/api_docs/python/tf/contrib/seq2seq/dynamic_rnn_decoder) outputs."
   ]
  },
  {
   "cell_type": "code",
   "execution_count": null,
   "metadata": {},
   "outputs": [],
   "source": [
    "def decoding_layer_train(encoder_state, dec_cell, dec_embed_input, sequence_length, decoding_scope,\n",
    "                         output_fn, keep_prob):\n",
    "    \"\"\"\n",
    "    Create a decoding layer for training\n",
    "    :param encoder_state: Encoder State\n",
    "    :param dec_cell: Decoder RNN Cell\n",
    "    :param dec_embed_input: Decoder embedded input\n",
    "    :param sequence_length: Sequence Length\n",
    "    :param decoding_scope: TenorFlow Variable Scope for decoding\n",
    "    :param output_fn: Function to apply the output layer\n",
    "    :param keep_prob: Dropout keep probability\n",
    "    :return: Train Logits\n",
    "    \"\"\"\n",
    "    # TODO: Implement Function\n",
    "    \n",
    "    with tf.variable_scope(\"decoding\") as decoding_scope:\n",
    "    # Training Decoder\n",
    "    train_decoder_fn = tf.contrib.seq2seq.simple_decoder_fn_train(encoder_state)\n",
    "    train_pred, _, _ = tf.contrib.seq2seq.dynamic_rnn_decoder(\n",
    "        dec_cell, train_decoder_fn, dec_embed_input, sequence_length, scope=decoding_scope)\n",
    "    \n",
    "    # Apply output function\n",
    "    train_logits =  output_fn(train_pred)\n",
    "    \n",
    "    return train_logits\n",
    "\n",
    "\n",
    "\"\"\"\n",
    "DON'T MODIFY ANYTHING IN THIS CELL THAT IS BELOW THIS LINE\n",
    "\"\"\"\n",
    "tests.test_decoding_layer_train(decoding_layer_train)"
   ]
  },
  {
   "cell_type": "markdown",
   "metadata": {},
   "source": [
    "### Decoding - Inference\n",
    "Create inference logits using [`tf.contrib.seq2seq.simple_decoder_fn_inference()`](https://www.tensorflow.org/api_docs/python/tf/contrib/seq2seq/simple_decoder_fn_inference) and [`tf.contrib.seq2seq.dynamic_rnn_decoder()`](https://www.tensorflow.org/api_docs/python/tf/contrib/seq2seq/dynamic_rnn_decoder). "
   ]
  },
  {
   "cell_type": "code",
   "execution_count": null,
   "metadata": {},
   "outputs": [],
   "source": [
    "def decoding_layer_infer(encoder_state, dec_cell, dec_embeddings, start_of_sequence_id, end_of_sequence_id,\n",
    "                         maximum_length, vocab_size, decoding_scope, output_fn, keep_prob):\n",
    "    \"\"\"\n",
    "    Create a decoding layer for inference\n",
    "    :param encoder_state: Encoder state\n",
    "    :param dec_cell: Decoder RNN Cell\n",
    "    :param dec_embeddings: Decoder embeddings\n",
    "    :param start_of_sequence_id: GO ID\n",
    "    :param end_of_sequence_id: EOS Id\n",
    "    :param maximum_length: Maximum length of \n",
    "    :param vocab_size: Size of vocabulary\n",
    "    :param decoding_scope: TensorFlow Variable Scope for decoding\n",
    "    :param output_fn: Function to apply the output layer\n",
    "    :param keep_prob: Dropout keep probability\n",
    "    :return: Inference Logits\n",
    "    \"\"\"\n",
    "    # TODO: Implement Function\n",
    "    return None\n",
    "\n",
    "\n",
    "\"\"\"\n",
    "DON'T MODIFY ANYTHING IN THIS CELL THAT IS BELOW THIS LINE\n",
    "\"\"\"\n",
    "tests.test_decoding_layer_infer(decoding_layer_infer)"
   ]
  },
  {
   "cell_type": "markdown",
   "metadata": {},
   "source": [
    "### Build the Decoding Layer\n",
    "Implement `decoding_layer()` to create a Decoder RNN layer.\n",
    "\n",
    "- Create RNN cell for decoding using `rnn_size` and `num_layers`.\n",
    "- Create the output fuction using [`lambda`](https://docs.python.org/3/tutorial/controlflow.html#lambda-expressions) to transform it's input, logits, to class logits.\n",
    "- Use the your `decoding_layer_train(encoder_state, dec_cell, dec_embed_input, sequence_length, decoding_scope, output_fn, keep_prob)` function to get the training logits.\n",
    "- Use your `decoding_layer_infer(encoder_state, dec_cell, dec_embeddings, start_of_sequence_id, end_of_sequence_id, maximum_length, vocab_size, decoding_scope, output_fn, keep_prob)` function to get the inference logits.\n",
    "\n",
    "Note: You'll need to use [tf.variable_scope](https://www.tensorflow.org/api_docs/python/tf/variable_scope) to share variables between training and inference."
   ]
  },
  {
   "cell_type": "code",
   "execution_count": null,
   "metadata": {},
   "outputs": [],
   "source": [
    "def decoding_layer(dec_embed_input, dec_embeddings, encoder_state, vocab_size, sequence_length, rnn_size,\n",
    "                   num_layers, target_vocab_to_int, keep_prob):\n",
    "    \"\"\"\n",
    "    Create decoding layer\n",
    "    :param dec_embed_input: Decoder embedded input\n",
    "    :param dec_embeddings: Decoder embeddings\n",
    "    :param encoder_state: The encoded state\n",
    "    :param vocab_size: Size of vocabulary\n",
    "    :param sequence_length: Sequence Length\n",
    "    :param rnn_size: RNN Size\n",
    "    :param num_layers: Number of layers\n",
    "    :param target_vocab_to_int: Dictionary to go from the target words to an id\n",
    "    :param keep_prob: Dropout keep probability\n",
    "    :return: Tuple of (Training Logits, Inference Logits)\n",
    "    \"\"\"\n",
    "    # TODO: Implement Function\n",
    "    return None, None\n",
    "\n",
    "\n",
    "\"\"\"\n",
    "DON'T MODIFY ANYTHING IN THIS CELL THAT IS BELOW THIS LINE\n",
    "\"\"\"\n",
    "tests.test_decoding_layer(decoding_layer)"
   ]
  },
  {
   "cell_type": "markdown",
   "metadata": {},
   "source": [
    "### Build the Neural Network\n",
    "Apply the functions you implemented above to:\n",
    "\n",
    "- Apply embedding to the input data for the encoder.\n",
    "- Encode the input using your `encoding_layer(rnn_inputs, rnn_size, num_layers, keep_prob)`.\n",
    "- Process target data using your `process_decoding_input(target_data, target_vocab_to_int, batch_size)` function.\n",
    "- Apply embedding to the target data for the decoder.\n",
    "- Decode the encoded input using your `decoding_layer(dec_embed_input, dec_embeddings, encoder_state, vocab_size, sequence_length, rnn_size, num_layers, target_vocab_to_int, keep_prob)`."
   ]
  },
  {
   "cell_type": "code",
   "execution_count": null,
   "metadata": {},
   "outputs": [],
   "source": [
    "def seq2seq_model(input_data, target_data, keep_prob, batch_size, sequence_length, source_vocab_size, target_vocab_size,\n",
    "                  enc_embedding_size, dec_embedding_size, rnn_size, num_layers, target_vocab_to_int):\n",
    "    \"\"\"\n",
    "    Build the Sequence-to-Sequence part of the neural network\n",
    "    :param input_data: Input placeholder\n",
    "    :param target_data: Target placeholder\n",
    "    :param keep_prob: Dropout keep probability placeholder\n",
    "    :param batch_size: Batch Size\n",
    "    :param sequence_length: Sequence Length\n",
    "    :param source_vocab_size: Source vocabulary size\n",
    "    :param target_vocab_size: Target vocabulary size\n",
    "    :param enc_embedding_size: Decoder embedding size\n",
    "    :param dec_embedding_size: Encoder embedding size\n",
    "    :param rnn_size: RNN Size\n",
    "    :param num_layers: Number of layers\n",
    "    :param target_vocab_to_int: Dictionary to go from the target words to an id\n",
    "    :return: Tuple of (Training Logits, Inference Logits)\n",
    "    \"\"\"\n",
    "    # TODO: Implement Function\n",
    "    return None\n",
    "\n",
    "\n",
    "\"\"\"\n",
    "DON'T MODIFY ANYTHING IN THIS CELL THAT IS BELOW THIS LINE\n",
    "\"\"\"\n",
    "tests.test_seq2seq_model(seq2seq_model)"
   ]
  },
  {
   "cell_type": "markdown",
   "metadata": {},
   "source": [
    "## Neural Network Training\n",
    "### Hyperparameters\n",
    "Tune the following parameters:\n",
    "\n",
    "- Set `epochs` to the number of epochs.\n",
    "- Set `batch_size` to the batch size.\n",
    "- Set `rnn_size` to the size of the RNNs.\n",
    "- Set `num_layers` to the number of layers.\n",
    "- Set `encoding_embedding_size` to the size of the embedding for the encoder.\n",
    "- Set `decoding_embedding_size` to the size of the embedding for the decoder.\n",
    "- Set `learning_rate` to the learning rate.\n",
    "- Set `keep_probability` to the Dropout keep probability"
   ]
  },
  {
   "cell_type": "code",
   "execution_count": null,
   "metadata": {
    "collapsed": true
   },
   "outputs": [],
   "source": [
    "# Number of Epochs\n",
    "epochs = None\n",
    "# Batch Size\n",
    "batch_size = None\n",
    "# RNN Size\n",
    "rnn_size = None\n",
    "# Number of Layers\n",
    "num_layers = None\n",
    "# Embedding Size\n",
    "encoding_embedding_size = None\n",
    "decoding_embedding_size = None\n",
    "# Learning Rate\n",
    "learning_rate = None\n",
    "# Dropout Keep Probability\n",
    "keep_probability = None"
   ]
  },
  {
   "cell_type": "markdown",
   "metadata": {},
   "source": [
    "### Build the Graph\n",
    "Build the graph using the neural network you implemented."
   ]
  },
  {
   "cell_type": "code",
   "execution_count": null,
   "metadata": {},
   "outputs": [],
   "source": [
    "\"\"\"\n",
    "DON'T MODIFY ANYTHING IN THIS CELL\n",
    "\"\"\"\n",
    "save_path = 'checkpoints/dev'\n",
    "(source_int_text, target_int_text), (source_vocab_to_int, target_vocab_to_int), _ = helper.load_preprocess()\n",
    "max_target_sentence_length = max([len(sentence) for sentence in source_int_text])\n",
    "\n",
    "train_graph = tf.Graph()\n",
    "with train_graph.as_default():\n",
    "    input_data, targets, lr, keep_prob = model_inputs()\n",
    "    sequence_length = tf.placeholder_with_default(max_target_sentence_length, None, name='sequence_length')\n",
    "    input_shape = tf.shape(input_data)\n",
    "    \n",
    "    train_logits, inference_logits = seq2seq_model(\n",
    "        tf.reverse(input_data, [-1]), targets, keep_prob, batch_size, sequence_length, len(source_vocab_to_int), len(target_vocab_to_int),\n",
    "        encoding_embedding_size, decoding_embedding_size, rnn_size, num_layers, target_vocab_to_int)\n",
    "\n",
    "    tf.identity(inference_logits, 'logits')\n",
    "    with tf.name_scope(\"optimization\"):\n",
    "        # Loss function\n",
    "        cost = tf.contrib.seq2seq.sequence_loss(\n",
    "            train_logits,\n",
    "            targets,\n",
    "            tf.ones([input_shape[0], sequence_length]))\n",
    "\n",
    "        # Optimizer\n",
    "        optimizer = tf.train.AdamOptimizer(lr)\n",
    "\n",
    "        # Gradient Clipping\n",
    "        gradients = optimizer.compute_gradients(cost)\n",
    "        capped_gradients = [(tf.clip_by_value(grad, -1., 1.), var) for grad, var in gradients if grad is not None]\n",
    "        train_op = optimizer.apply_gradients(capped_gradients)"
   ]
  },
  {
   "cell_type": "markdown",
   "metadata": {},
   "source": [
    "### Train\n",
    "Train the neural network on the preprocessed data. If you have a hard time getting a good loss, check the forms to see if anyone is having the same problem."
   ]
  },
  {
   "cell_type": "code",
   "execution_count": null,
   "metadata": {
    "scrolled": true
   },
   "outputs": [],
   "source": [
    "\"\"\"\n",
    "DON'T MODIFY ANYTHING IN THIS CELL\n",
    "\"\"\"\n",
    "import time\n",
    "\n",
    "def get_accuracy(target, logits):\n",
    "    \"\"\"\n",
    "    Calculate accuracy\n",
    "    \"\"\"\n",
    "    max_seq = max(target.shape[1], logits.shape[1])\n",
    "    if max_seq - target.shape[1]:\n",
    "        target = np.pad(\n",
    "            target_batch,\n",
    "            [(0,0),(0,max_seq - target_batch.shape[1]), (0,0)],\n",
    "            'constant')\n",
    "    if max_seq - batch_train_logits.shape[1]:\n",
    "        logits = np.pad(\n",
    "            logits,\n",
    "            [(0,0),(0,max_seq - logits.shape[1]), (0,0)],\n",
    "            'constant')\n",
    "\n",
    "    return np.mean(np.equal(target, np.argmax(logits, 2)))\n",
    "\n",
    "train_source = source_int_text[batch_size:]\n",
    "train_target = target_int_text[batch_size:]\n",
    "\n",
    "valid_source = helper.pad_sentence_batch(source_int_text[:batch_size])\n",
    "valid_target = helper.pad_sentence_batch(target_int_text[:batch_size])\n",
    "\n",
    "with tf.Session(graph=train_graph) as sess:\n",
    "    sess.run(tf.global_variables_initializer())\n",
    "\n",
    "    for epoch_i in range(epochs):\n",
    "        for batch_i, (source_batch, target_batch) in enumerate(\n",
    "                helper.batch_data(train_source, train_target, batch_size)):\n",
    "            start_time = time.time()\n",
    "            \n",
    "            _, loss = sess.run(\n",
    "                [train_op, cost],\n",
    "                {input_data: source_batch,\n",
    "                 targets: target_batch,\n",
    "                 lr: learning_rate,\n",
    "                 sequence_length: target_batch.shape[1],\n",
    "                 keep_prob: keep_probability})\n",
    "            \n",
    "            batch_train_logits = sess.run(\n",
    "                inference_logits,\n",
    "                {input_data: source_batch, keep_prob: 1.0})\n",
    "            batch_valid_logits = sess.run(\n",
    "                inference_logits,\n",
    "                {input_data: valid_source, keep_prob: 1.0})\n",
    "                \n",
    "            train_acc = get_accuracy(target_batch, batch_train_logits)\n",
    "            valid_acc = get_accuracy(np.array(valid_target), batch_valid_logits)\n",
    "            end_time = time.time()\n",
    "            print('Epoch {:>3} Batch {:>4}/{} - Train Accuracy: {:>6.3f}, Validation Accuracy: {:>6.3f}, Loss: {:>6.3f}'\n",
    "                  .format(epoch_i, batch_i, len(source_int_text) // batch_size, train_acc, valid_acc, loss))\n",
    "\n",
    "    # Save Model\n",
    "    saver = tf.train.Saver()\n",
    "    saver.save(sess, save_path)\n",
    "    print('Model Trained and Saved')"
   ]
  },
  {
   "cell_type": "markdown",
   "metadata": {},
   "source": [
    "### Save Parameters\n",
    "Save the `batch_size` and `save_path` parameters for inference."
   ]
  },
  {
   "cell_type": "code",
   "execution_count": null,
   "metadata": {},
   "outputs": [],
   "source": [
    "\"\"\"\n",
    "DON'T MODIFY ANYTHING IN THIS CELL\n",
    "\"\"\"\n",
    "# Save parameters for checkpoint\n",
    "helper.save_params(save_path)"
   ]
  },
  {
   "cell_type": "markdown",
   "metadata": {},
   "source": [
    "# Checkpoint"
   ]
  },
  {
   "cell_type": "code",
   "execution_count": null,
   "metadata": {},
   "outputs": [],
   "source": [
    "\"\"\"\n",
    "DON'T MODIFY ANYTHING IN THIS CELL\n",
    "\"\"\"\n",
    "import tensorflow as tf\n",
    "import numpy as np\n",
    "import helper\n",
    "import problem_unittests as tests\n",
    "\n",
    "_, (source_vocab_to_int, target_vocab_to_int), (source_int_to_vocab, target_int_to_vocab) = helper.load_preprocess()\n",
    "load_path = helper.load_params()"
   ]
  },
  {
   "cell_type": "markdown",
   "metadata": {},
   "source": [
    "## Sentence to Sequence\n",
    "To feed a sentence into the model for translation, you first need to preprocess it.  Implement the function `sentence_to_seq()` to preprocess new sentences.\n",
    "\n",
    "- Convert the sentence to lowercase\n",
    "- Convert words into ids using `vocab_to_int`\n",
    " - Convert words not in the vocabulary, to the `<UNK>` word id."
   ]
  },
  {
   "cell_type": "code",
   "execution_count": null,
   "metadata": {},
   "outputs": [],
   "source": [
    "def sentence_to_seq(sentence, vocab_to_int):\n",
    "    \"\"\"\n",
    "    Convert a sentence to a sequence of ids\n",
    "    :param sentence: String\n",
    "    :param vocab_to_int: Dictionary to go from the words to an id\n",
    "    :return: List of word ids\n",
    "    \"\"\"\n",
    "    # TODO: Implement Function\n",
    "    return None\n",
    "\n",
    "\n",
    "\"\"\"\n",
    "DON'T MODIFY ANYTHING IN THIS CELL THAT IS BELOW THIS LINE\n",
    "\"\"\"\n",
    "tests.test_sentence_to_seq(sentence_to_seq)"
   ]
  },
  {
   "cell_type": "markdown",
   "metadata": {},
   "source": [
    "## Translate\n",
    "This will translate `translate_sentence` from English to French."
   ]
  },
  {
   "cell_type": "code",
   "execution_count": null,
   "metadata": {},
   "outputs": [],
   "source": [
    "translate_sentence = 'he saw a old yellow truck .'\n",
    "\n",
    "\n",
    "\"\"\"\n",
    "DON'T MODIFY ANYTHING IN THIS CELL\n",
    "\"\"\"\n",
    "translate_sentence = sentence_to_seq(translate_sentence, source_vocab_to_int)\n",
    "\n",
    "loaded_graph = tf.Graph()\n",
    "with tf.Session(graph=loaded_graph) as sess:\n",
    "    # Load saved model\n",
    "    loader = tf.train.import_meta_graph(load_path + '.meta')\n",
    "    loader.restore(sess, load_path)\n",
    "\n",
    "    input_data = loaded_graph.get_tensor_by_name('input:0')\n",
    "    logits = loaded_graph.get_tensor_by_name('logits:0')\n",
    "    keep_prob = loaded_graph.get_tensor_by_name('keep_prob:0')\n",
    "\n",
    "    translate_logits = sess.run(logits, {input_data: [translate_sentence], keep_prob: 1.0})[0]\n",
    "\n",
    "print('Input')\n",
    "print('  Word Ids:      {}'.format([i for i in translate_sentence]))\n",
    "print('  English Words: {}'.format([source_int_to_vocab[i] for i in translate_sentence]))\n",
    "\n",
    "print('\\nPrediction')\n",
    "print('  Word Ids:      {}'.format([i for i in np.argmax(translate_logits, 1)]))\n",
    "print('  French Words: {}'.format([target_int_to_vocab[i] for i in np.argmax(translate_logits, 1)]))"
   ]
  },
  {
   "cell_type": "markdown",
   "metadata": {},
   "source": [
    "## Imperfect Translation\n",
    "You might notice that some sentences translate better than others.  Since the dataset you're using only has a vocabulary of 227 English words of the thousands that you use, you're only going to see good results using these words.  For this project, you don't need a perfect translation. However, if you want to create a better translation model, you'll need better data.\n",
    "\n",
    "You can train on the [WMT10 French-English corpus](http://www.statmt.org/wmt10/training-giga-fren.tar).  This dataset has more vocabulary and richer in topics discussed.  However, this will take you days to train, so make sure you've a GPU and the neural network is performing well on dataset we provided.  Just make sure you play with the WMT10 corpus after you've submitted this project.\n",
    "## Submitting This Project\n",
    "When submitting this project, make sure to run all the cells before saving the notebook. Save the notebook file as \"dlnd_language_translation.ipynb\" and save it as a HTML file under \"File\" -> \"Download as\". Include the \"helper.py\" and \"problem_unittests.py\" files in your submission."
   ]
  }
 ],
 "metadata": {
  "kernelspec": {
   "display_name": "Python 3",
   "language": "python",
   "name": "python3"
  },
  "language_info": {
   "codemirror_mode": {
    "name": "ipython",
    "version": 3
   },
   "file_extension": ".py",
   "mimetype": "text/x-python",
   "name": "python",
   "nbconvert_exporter": "python",
   "pygments_lexer": "ipython3",
   "version": "3.5.3"
  }
 },
 "nbformat": 4,
 "nbformat_minor": 1
}
